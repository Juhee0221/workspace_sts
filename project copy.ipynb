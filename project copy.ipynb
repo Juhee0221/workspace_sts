{
 "cells": [
  {
   "cell_type": "markdown",
   "metadata": {},
   "source": [
    "### 파이썬 프로젝트"
   ]
  },
  {
   "cell_type": "code",
   "execution_count": 6,
   "metadata": {},
   "outputs": [],
   "source": [
    "import requests \n",
    "\n",
    "url = 'http://apis.data.go.kr/3210000/SeochoIaqSvc/getSeochoIaqRtData'\n",
    "params ={'serviceKey' : 'JD5DZMsMRUNGYsf7nFJcGLLdf7O1YbWJNGJMJ1XovoS1KXZCpohHerON9TJXry+a11TPLP5dLC8fA2RheOiv9g==', \n",
    "         'numOfRows' : '90', \n",
    "         'pageNo' : '1' }\n",
    "\n",
    "response = requests.get(url, params=params)"
   ]
  },
  {
   "cell_type": "code",
   "execution_count": 2,
   "metadata": {},
   "outputs": [
    {
     "name": "stdout",
     "output_type": "stream",
     "text": [
      "b'<?xml version=\"1.0\" encoding=\"UTF-8\"?>\\r\\n<response>\\r\\n<header>\\r\\n<resultCode>00</resultCode>\\r\\n<resultMsg>NORMAL SERVICE</resultMsg>\\r\\n</header>\\r\\n<body>\\r\\n<items>\\r\\n\\r\\n<item>\\r\\n\\r\\n<dataTime>2024-03-20 16:59</dataTime>\\r\\n<serialNo>ICW0W2100488</serialNo>\\r\\n<pm10>23</pm10>\\r\\n<pm25>8</pm25>\\r\\n<co2>494</co2>\\r\\n<vocs>159</vocs>\\r\\n<temp>23.2</temp>\\r\\n<humi>15</humi>\\r\\n<noise>72</noise>\\r\\n<cici>92</cici>\\r\\n</item>\\r\\n\\r\\n<item>\\r\\n\\r\\n<dataTime>2024-03-20 16:59</dataTime>\\r\\n<serialNo>ICW0W2100506</serialNo>\\r\\n<pm10>16</pm10>\\r\\n<pm25>6</pm25>\\r\\n<co2>877</co2>\\r\\n<vocs>37</vocs>\\r\\n<temp>28.8</temp>\\r\\n<humi>13</humi>\\r\\n<noise>65</noise>\\r\\n<cici>86</cici>\\r\\n</item>\\r\\n\\r\\n<item>\\r\\n\\r\\n<dataTime>2024-03-14 09:08</dataTime>\\r\\n<serialNo>ICW0W2100587</serialNo>\\r\\n<pm10>55</pm10>\\r\\n<pm25>20</pm25>\\r\\n<co2>392</co2>\\r\\n<vocs>6000</vocs>\\r\\n<temp>24.8</temp>\\r\\n<humi>23</humi>\\r\\n<noise>69</noise>\\r\\n<cici>62</cici>\\r\\n</item>\\r\\n\\r\\n<item>\\r\\n\\r\\n<dataTime>2024-03-20 16:59</dataTime>\\r\\n<serialNo>ICW0W2100582</serialNo>\\r\\n<pm10>26</pm10>\\r\\n<pm25>10</pm25>\\r\\n<co2>629</co2>\\r\\n<vocs>1444</vocs>\\r\\n<temp>22.5</temp>\\r\\n<humi>20</humi>\\r\\n<noise>60</noise>\\r\\n<cici>76</cici>\\r\\n</item>\\r\\n\\r\\n<item>\\r\\n\\r\\n<dataTime>2024-03-20 16:59</dataTime>\\r\\n<serialNo>ICW0W2100579</serialNo>\\r\\n<pm10>10</pm10>\\r\\n<pm25>4</pm25>\\r\\n<co2>0</co2>\\r\\n<vocs>700</vocs>\\r\\n<temp>26.8</temp>\\r\\n<humi>11</humi>\\r\\n<noise>64</noise>\\r\\n<cici>82</cici>\\r\\n</item>\\r\\n\\r\\n<item>\\r\\n\\r\\n<dataTime>2024-03-20 17:00</dataTime>\\r\\n<serialNo>ICW0W2100562</serialNo>\\r\\n<pm10>22</pm10>\\r\\n<pm25>12</pm25>\\r\\n<co2>615</co2>\\r\\n<vocs>869</vocs>\\r\\n<temp>22.9</temp>\\r\\n<humi>15</humi>\\r\\n<noise>59</noise>\\r\\n<cici>77</cici>\\r\\n</item>\\r\\n\\r\\n<item>\\r\\n\\r\\n<dataTime>2024-03-20 16:59</dataTime>\\r\\n<serialNo>ICW0W2100560</serialNo>\\r\\n<pm10>23</pm10>\\r\\n<pm25>9</pm25>\\r\\n<co2>452</co2>\\r\\n<vocs>5809</vocs>\\r\\n<temp>22.0</temp>\\r\\n<humi>15</humi>\\r\\n<noise>58</noise>\\r\\n<cici>65</cici>\\r\\n</item>\\r\\n\\r\\n<item>\\r\\n\\r\\n<dataTime>2024-03-20 16:59</dataTime>\\r\\n<serialNo>ICW0W2100549</serialNo>\\r\\n<pm10>26</pm10>\\r\\n<pm25>9</pm25>\\r\\n<co2>847</co2>\\r\\n<vocs>134</vocs>\\r\\n<temp>18.4</temp>\\r\\n<humi>24</humi>\\r\\n<noise>69</noise>\\r\\n<cici>93</cici>\\r\\n</item>\\r\\n\\r\\n<item>\\r\\n\\r\\n<dataTime>2024-03-20 16:59</dataTime>\\r\\n<serialNo>ICW0W2100509</serialNo>\\r\\n<pm10>12</pm10>\\r\\n<pm25>5</pm25>\\r\\n<co2>179</co2>\\r\\n<vocs>6000</vocs>\\r\\n<temp>23.1</temp>\\r\\n<humi>21</humi>\\r\\n<noise>70</noise>\\r\\n<cici>70</cici>\\r\\n</item>\\r\\n\\r\\n<item>\\r\\n\\r\\n<dataTime>2024-03-19 17:57</dataTime>\\r\\n<serialNo>ICW0W2100499</serialNo>\\r\\n<pm10>33</pm10>\\r\\n<pm25>13</pm25>\\r\\n<co2>500</co2>\\r\\n<vocs>548</vocs>\\r\\n<temp>20.5</temp>\\r\\n<humi>30</humi>\\r\\n<noise>82</noise>\\r\\n<cici>86</cici>\\r\\n</item>\\r\\n\\r\\n<item>\\r\\n\\r\\n<dataTime>2024-03-19 13:26</dataTime>\\r\\n<serialNo>ICW0W2100498</serialNo>\\r\\n<pm10>36</pm10>\\r\\n<pm25>13</pm25>\\r\\n<co2>1781</co2>\\r\\n<vocs>645</vocs>\\r\\n<temp>24.5</temp>\\r\\n<humi>41</humi>\\r\\n<noise>86</noise>\\r\\n<cici>77</cici>\\r\\n</item>\\r\\n\\r\\n<item>\\r\\n\\r\\n<dataTime>2024-03-20 16:59</dataTime>\\r\\n<serialNo>ICW0W2100497</serialNo>\\r\\n<pm10>165</pm10>\\r\\n<pm25>69</pm25>\\r\\n<co2>560</co2>\\r\\n<vocs>48</vocs>\\r\\n<temp>24.0</temp>\\r\\n<humi>16</humi>\\r\\n<noise>54</noise>\\r\\n<cici>68</cici>\\r\\n</item>\\r\\n\\r\\n<item>\\r\\n\\r\\n<dataTime>2024-03-20 17:02</dataTime>\\r\\n<serialNo>ICW0W2100491</serialNo>\\r\\n<pm10>6</pm10>\\r\\n<pm25>3</pm25>\\r\\n<co2>1095</co2>\\r\\n<vocs>60000</vocs>\\r\\n<temp>23.2</temp>\\r\\n<humi>20</humi>\\r\\n<noise>66</noise>\\r\\n<cici>64</cici>\\r\\n</item>\\r\\n\\r\\n<item>\\r\\n\\r\\n<dataTime>2024-03-20 16:59</dataTime>\\r\\n<serialNo>ICW0W2100485</serialNo>\\r\\n<pm10>14</pm10>\\r\\n<pm25>5</pm25>\\r\\n<co2>1195</co2>\\r\\n<vocs>1</vocs>\\r\\n<temp>23.1</temp>\\r\\n<humi>28</humi>\\r\\n<noise>81</noise>\\r\\n<cici>88</cici>\\r\\n</item>\\r\\n\\r\\n<item>\\r\\n\\r\\n<dataTime>2024-03-20 16:59</dataTime>\\r\\n<serialNo>ICW0W2100481</serialNo>\\r\\n<pm10>27</pm10>\\r\\n<pm25>10</pm25>\\r\\n<co2>1160</co2>\\r\\n<vocs>452</vocs>\\r\\n<temp>21.9</temp>\\r\\n<humi>31</humi>\\r\\n<noise>70</noise>\\r\\n<cici>84</cici>\\r\\n</item>\\r\\n\\r\\n<item>\\r\\n\\r\\n<dataTime>2024-03-20 16:59</dataTime>\\r\\n<serialNo>ICW0W2100479</serialNo>\\r\\n<pm10>20</pm10>\\r\\n<pm25>7</pm25>\\r\\n<co2>862</co2>\\r\\n<vocs>125</vocs>\\r\\n<temp>24.7</temp>\\r\\n<humi>23</humi>\\r\\n<noise>58</noise>\\r\\n<cici>91</cici>\\r\\n</item>\\r\\n\\r\\n<item>\\r\\n\\r\\n<dataTime>2024-03-20 16:59</dataTime>\\r\\n<serialNo>ICW0W2100489</serialNo>\\r\\n<pm10>6</pm10>\\r\\n<pm25>2</pm25>\\r\\n<co2>80</co2>\\r\\n<vocs>4</vocs>\\r\\n<temp>23.8</temp>\\r\\n<humi>21</humi>\\r\\n<noise>62</noise>\\r\\n<cici>100</cici>\\r\\n</item>\\r\\n\\r\\n<item>\\r\\n\\r\\n<dataTime>2024-03-20 16:59</dataTime>\\r\\n<serialNo>ICW0W2100467</serialNo>\\r\\n<pm10>10</pm10>\\r\\n<pm25>4</pm25>\\r\\n<co2></co2>\\r\\n<vocs>6000</vocs>\\r\\n<temp>22.4</temp>\\r\\n<humi>17</humi>\\r\\n<noise>86</noise>\\r\\n<cici>59</cici>\\r\\n</item>\\r\\n\\r\\n<item>\\r\\n\\r\\n<dataTime>2024-02-17 23:27</dataTime>\\r\\n<serialNo>ICW0W2100466</serialNo>\\r\\n<pm10>24</pm10>\\r\\n<pm25>9</pm25>\\r\\n<co2>516</co2>\\r\\n<vocs>366</vocs>\\r\\n<temp>19.9</temp>\\r\\n<humi>31</humi>\\r\\n<noise>55</noise>\\r\\n<cici>92</cici>\\r\\n</item>\\r\\n\\r\\n<item>\\r\\n\\r\\n<dataTime>2024-03-18 14:19</dataTime>\\r\\n<serialNo>ICW0W2100463</serialNo>\\r\\n<pm10>33</pm10>\\r\\n<pm25>10</pm25>\\r\\n<co2>791</co2>\\r\\n<vocs>935</vocs>\\r\\n<temp>22.7</temp>\\r\\n<humi>21</humi>\\r\\n<noise>71</noise>\\r\\n<cici>77</cici>\\r\\n</item>\\r\\n\\r\\n<item>\\r\\n\\r\\n<dataTime>2024-03-20 16:59</dataTime>\\r\\n<serialNo>ICW0W2100462</serialNo>\\r\\n<pm10>8</pm10>\\r\\n<pm25>2</pm25>\\r\\n<co2>14</co2>\\r\\n<vocs>6000</vocs>\\r\\n<temp>24.0</temp>\\r\\n<humi>23</humi>\\r\\n<noise>59</noise>\\r\\n<cici>71</cici>\\r\\n</item>\\r\\n\\r\\n<item>\\r\\n\\r\\n<dataTime>2024-03-20 16:59</dataTime>\\r\\n<serialNo>ICW0W2100460</serialNo>\\r\\n<pm10>8</pm10>\\r\\n<pm25>2</pm25>\\r\\n<co2>1316</co2>\\r\\n<vocs>0</vocs>\\r\\n<temp>21.0</temp>\\r\\n<humi>27</humi>\\r\\n<noise>74</noise>\\r\\n<cici>86</cici>\\r\\n</item>\\r\\n\\r\\n<item>\\r\\n\\r\\n<dataTime>2024-02-27 19:25</dataTime>\\r\\n<serialNo>ICW0W2100459</serialNo>\\r\\n<pm10>83</pm10>\\r\\n<pm25>34</pm25>\\r\\n<co2>514</co2>\\r\\n<vocs>44</vocs>\\r\\n<temp>19.9</temp>\\r\\n<humi>26</humi>\\r\\n<noise>66</noise>\\r\\n<cici>88</cici>\\r\\n</item>\\r\\n\\r\\n<item>\\r\\n\\r\\n<dataTime>2024-02-28 10:22</dataTime>\\r\\n<serialNo>ICW0W2100457</serialNo>\\r\\n<pm10>12</pm10>\\r\\n<pm25>4</pm25>\\r\\n<co2>1423</co2>\\r\\n<vocs>123</vocs>\\r\\n<temp>18.1</temp>\\r\\n<humi>35</humi>\\r\\n<noise>67</noise>\\r\\n<cici>86</cici>\\r\\n</item>\\r\\n\\r\\n<item>\\r\\n\\r\\n<dataTime>2024-03-20 16:59</dataTime>\\r\\n<serialNo>ICW0W2100455</serialNo>\\r\\n<pm10>14</pm10>\\r\\n<pm25>5</pm25>\\r\\n<co2>1455</co2>\\r\\n<vocs>0</vocs>\\r\\n<temp>22.5</temp>\\r\\n<humi>25</humi>\\r\\n<noise>77</noise>\\r\\n<cici>82</cici>\\r\\n</item>\\r\\n\\r\\n<item>\\r\\n\\r\\n<dataTime>2024-03-20 16:09</dataTime>\\r\\n<serialNo>ICW0W2000512</serialNo>\\r\\n<pm10>24</pm10>\\r\\n<pm25>9</pm25>\\r\\n<co2>601</co2>\\r\\n<vocs>1217</vocs>\\r\\n<temp>33.7</temp>\\r\\n<humi>15</humi>\\r\\n<noise>66</noise>\\r\\n<cici>64</cici>\\r\\n</item>\\r\\n\\r\\n<item>\\r\\n\\r\\n<dataTime>2024-03-20 16:59</dataTime>\\r\\n<serialNo>ICW0W2001000</serialNo>\\r\\n<pm10>16</pm10>\\r\\n<pm25>11</pm25>\\r\\n<co2>390</co2>\\r\\n<vocs>208</vocs>\\r\\n<temp>18.7</temp>\\r\\n<humi>27</humi>\\r\\n<noise>61</noise>\\r\\n<cici>95</cici>\\r\\n</item>\\r\\n\\r\\n<item>\\r\\n\\r\\n<dataTime>2024-02-27 11:02</dataTime>\\r\\n<serialNo>ICW0W2000263</serialNo>\\r\\n<pm10>15</pm10>\\r\\n<pm25>3</pm25>\\r\\n<co2>430</co2>\\r\\n<vocs>42</vocs>\\r\\n<temp>20.9</temp>\\r\\n<humi>24</humi>\\r\\n<noise>65</noise>\\r\\n<cici>99</cici>\\r\\n</item>\\r\\n\\r\\n<item>\\r\\n\\r\\n<dataTime>2024-03-20 16:59</dataTime>\\r\\n<serialNo>ICW0W2000951</serialNo>\\r\\n<pm10>27</pm10>\\r\\n<pm25>8</pm25>\\r\\n<co2>314</co2>\\r\\n<vocs>245</vocs>\\r\\n<temp>20.4</temp>\\r\\n<humi>21</humi>\\r\\n<noise>66</noise>\\r\\n<cici>95</cici>\\r\\n</item>\\r\\n\\r\\n<item>\\r\\n\\r\\n<dataTime>2024-03-20 16:59</dataTime>\\r\\n<serialNo>ICW0W2000956</serialNo>\\r\\n<pm10>20</pm10>\\r\\n<pm25>12</pm25>\\r\\n<co2>1004</co2>\\r\\n<vocs>6000</vocs>\\r\\n<temp>20.2</temp>\\r\\n<humi>32</humi>\\r\\n<noise>60</noise>\\r\\n<cici>70</cici>\\r\\n</item>\\r\\n\\r\\n<item>\\r\\n\\r\\n<dataTime>2024-03-20 16:59</dataTime>\\r\\n<serialNo>ICW0W2000996</serialNo>\\r\\n<pm10>21</pm10>\\r\\n<pm25>20</pm25>\\r\\n<co2>596</co2>\\r\\n<vocs>3369</vocs>\\r\\n<temp>21.7</temp>\\r\\n<humi>22</humi>\\r\\n<noise>55</noise>\\r\\n<cici>71</cici>\\r\\n</item>\\r\\n\\r\\n<item>\\r\\n\\r\\n<dataTime>2024-03-20 16:59</dataTime>\\r\\n<serialNo>ICW0W2000991</serialNo>\\r\\n<pm10>14</pm10>\\r\\n<pm25>10</pm25>\\r\\n<co2>483</co2>\\r\\n<vocs>21</vocs>\\r\\n<temp>20.8</temp>\\r\\n<humi>23</humi>\\r\\n<noise>63</noise>\\r\\n<cici>97</cici>\\r\\n</item>\\r\\n\\r\\n<item>\\r\\n\\r\\n<dataTime>2024-02-20 14:27</dataTime>\\r\\n<serialNo>ICW0W2000990</serialNo>\\r\\n<pm10>3</pm10>\\r\\n<pm25>2</pm25>\\r\\n<co2>1052</co2>\\r\\n<vocs>6645</vocs>\\r\\n<temp>21.0</temp>\\r\\n<humi>34</humi>\\r\\n<noise>63</noise>\\r\\n<cici>71</cici>\\r\\n</item>\\r\\n\\r\\n<item>\\r\\n\\r\\n<dataTime>2024-03-20 16:59</dataTime>\\r\\n<serialNo>ICW0W2000983</serialNo>\\r\\n<pm10>7</pm10>\\r\\n<pm25>5</pm25>\\r\\n<co2>198</co2>\\r\\n<vocs>62</vocs>\\r\\n<temp>13.7</temp>\\r\\n<humi>28</humi>\\r\\n<noise>61</noise>\\r\\n<cici>90</cici>\\r\\n</item>\\r\\n\\r\\n<item>\\r\\n\\r\\n<dataTime>2024-03-20 16:59</dataTime>\\r\\n<serialNo>ICW0W2000955</serialNo>\\r\\n<pm10>17</pm10>\\r\\n<pm25>11</pm25>\\r\\n<co2>626</co2>\\r\\n<vocs>60</vocs>\\r\\n<temp>17.8</temp>\\r\\n<humi>22</humi>\\r\\n<noise>70</noise>\\r\\n<cici>93</cici>\\r\\n</item>\\r\\n\\r\\n<item>\\r\\n\\r\\n<dataTime>2024-03-20 16:59</dataTime>\\r\\n<serialNo>ICW0W2000987</serialNo>\\r\\n<pm10>13</pm10>\\r\\n<pm25>8</pm25>\\r\\n<co2>863</co2>\\r\\n<vocs>224</vocs>\\r\\n<temp>23.5</temp>\\r\\n<humi>25</humi>\\r\\n<noise>60</noise>\\r\\n<cici>93</cici>\\r\\n</item>\\r\\n\\r\\n<item>\\r\\n\\r\\n<dataTime>2024-03-20 16:59</dataTime>\\r\\n<serialNo>ICW0W2000978</serialNo>\\r\\n<pm10>22</pm10>\\r\\n<pm25>14</pm25>\\r\\n<co2>588</co2>\\r\\n<vocs>266</vocs>\\r\\n<temp>21.5</temp>\\r\\n<humi>22</humi>\\r\\n<noise>50</noise>\\r\\n<cici>92</cici>\\r\\n</item>\\r\\n\\r\\n<item>\\r\\n\\r\\n<dataTime>2024-03-20 16:59</dataTime>\\r\\n<serialNo>ICW0W2000922</serialNo>\\r\\n<pm10>9</pm10>\\r\\n<pm25>3</pm25>\\r\\n<co2>393</co2>\\r\\n<vocs>1023</vocs>\\r\\n<temp>24.4</temp>\\r\\n<humi>24</humi>\\r\\n<noise>64</noise>\\r\\n<cici>77</cici>\\r\\n</item>\\r\\n\\r\\n<item>\\r\\n\\r\\n<dataTime>2024-03-20 16:59</dataTime>\\r\\n<serialNo>ICW0W2000926</serialNo>\\r\\n<pm10>4</pm10>\\r\\n<pm25>1</pm25>\\r\\n<co2>66</co2>\\r\\n<vocs>1802</vocs>\\r\\n<temp>27.9</temp>\\r\\n<humi>21</humi>\\r\\n<noise>52</noise>\\r\\n<cici>73</cici>\\r\\n</item>\\r\\n\\r\\n<item>\\r\\n\\r\\n<dataTime>2024-03-20 16:59</dataTime>\\r\\n<serialNo>ICW0W2000977</serialNo>\\r\\n<pm10>16</pm10>\\r\\n<pm25>10</pm25>\\r\\n<co2>800</co2>\\r\\n<vocs>2290</vocs>\\r\\n<temp>20.7</temp>\\r\\n<humi>25</humi>\\r\\n<noise>78</noise>\\r\\n<cici>74</cici>\\r\\n</item>\\r\\n\\r\\n<item>\\r\\n\\r\\n<dataTime>2024-03-20 16:59</dataTime>\\r\\n<serialNo>ICW0W2000933</serialNo>\\r\\n<pm10>23</pm10>\\r\\n<pm25>7</pm25>\\r\\n<co2>373</co2>\\r\\n<vocs>31</vocs>\\r\\n<temp>21.6</temp>\\r\\n<humi>19</humi>\\r\\n<noise>52</noise>\\r\\n<cici>95</cici>\\r\\n</item>\\r\\n\\r\\n<item>\\r\\n\\r\\n<dataTime>2024-03-13 08:57</dataTime>\\r\\n<serialNo>ICW0W2000373</serialNo>\\r\\n<pm10>68</pm10>\\r\\n<pm25>18</pm25>\\r\\n<co2>521</co2>\\r\\n<vocs>107</vocs>\\r\\n<temp>15.3</temp>\\r\\n<humi>34</humi>\\r\\n<noise>69</noise>\\r\\n<cici>84</cici>\\r\\n</item>\\r\\n\\r\\n<item>\\r\\n\\r\\n<dataTime>2024-03-20 16:59</dataTime>\\r\\n<serialNo>ICW0W2000973</serialNo>\\r\\n<pm10>9</pm10>\\r\\n<pm25>6</pm25>\\r\\n<co2>661</co2>\\r\\n<vocs>95</vocs>\\r\\n<temp>20.7</temp>\\r\\n<humi>25</humi>\\r\\n<noise>51</noise>\\r\\n<cici>97</cici>\\r\\n</item>\\r\\n\\r\\n<item>\\r\\n\\r\\n<dataTime>2024-03-20 16:59</dataTime>\\r\\n<serialNo>ICW0W2000972</serialNo>\\r\\n<pm10>246</pm10>\\r\\n<pm25>172</pm25>\\r\\n<co2>595</co2>\\r\\n<vocs>622</vocs>\\r\\n<temp>21.8</temp>\\r\\n<humi>17</humi>\\r\\n<noise>52</noise>\\r\\n<cici>52</cici>\\r\\n</item>\\r\\n\\r\\n<item>\\r\\n\\r\\n<dataTime>2024-03-20 16:59</dataTime>\\r\\n<serialNo>ICW0W2000968</serialNo>\\r\\n<pm10>12</pm10>\\r\\n<pm25>7</pm25>\\r\\n<co2>1026</co2>\\r\\n<vocs>245</vocs>\\r\\n<temp>26.6</temp>\\r\\n<humi>18</humi>\\r\\n<noise>74</noise>\\r\\n<cici>84</cici>\\r\\n</item>\\r\\n\\r\\n<item>\\r\\n\\r\\n<dataTime>2024-03-20 16:59</dataTime>\\r\\n<serialNo>ICW0W2000944</serialNo>\\r\\n<pm10>4</pm10>\\r\\n<pm25>3</pm25>\\r\\n<co2>639</co2>\\r\\n<vocs>6000</vocs>\\r\\n<temp>21.6</temp>\\r\\n<humi>27</humi>\\r\\n<noise>53</noise>\\r\\n<cici>68</cici>\\r\\n</item>\\r\\n\\r\\n<item>\\r\\n\\r\\n<dataTime>2024-03-20 16:59</dataTime>\\r\\n<serialNo>ICW0W2000964</serialNo>\\r\\n<pm10>22</pm10>\\r\\n<pm25>15</pm25>\\r\\n<co2>419</co2>\\r\\n<vocs>40</vocs>\\r\\n<temp>15.9</temp>\\r\\n<humi>22</humi>\\r\\n<noise>58</noise>\\r\\n<cici>89</cici>\\r\\n</item>\\r\\n\\r\\n<item>\\r\\n\\r\\n<dataTime>2024-03-20 16:59</dataTime>\\r\\n<serialNo>ICW0W2000924</serialNo>\\r\\n<pm10>63</pm10>\\r\\n<pm25>22</pm25>\\r\\n<co2>612</co2>\\r\\n<vocs>26</vocs>\\r\\n<temp>22.4</temp>\\r\\n<humi>21</humi>\\r\\n<noise>57</noise>\\r\\n<cici>92</cici>\\r\\n</item>\\r\\n\\r\\n<item>\\r\\n\\r\\n<dataTime>2024-03-20 16:59</dataTime>\\r\\n<serialNo>ICW0W2000505</serialNo>\\r\\n<pm10>12</pm10>\\r\\n<pm25>4</pm25>\\r\\n<co2>1101</co2>\\r\\n<vocs>250</vocs>\\r\\n<temp>21.3</temp>\\r\\n<humi>26</humi>\\r\\n<noise>73</noise>\\r\\n<cici>88</cici>\\r\\n</item>\\r\\n\\r\\n<item>\\r\\n\\r\\n<dataTime>2024-03-20 16:59</dataTime>\\r\\n<serialNo>V01T1623100</serialNo>\\r\\n<pm10>125</pm10>\\r\\n<pm25>41</pm25>\\r\\n<co2>1139</co2>\\r\\n<vocs>221</vocs>\\r\\n<temp>22.9</temp>\\r\\n<humi>23</humi>\\r\\n<noise>36</noise>\\r\\n<cici>74</cici>\\r\\n</item>\\r\\n\\r\\n<item>\\r\\n\\r\\n<dataTime>2024-03-20 16:59</dataTime>\\r\\n<serialNo>V01T1623130</serialNo>\\r\\n<pm10>1</pm10>\\r\\n<pm25>1</pm25>\\r\\n<co2>553</co2>\\r\\n<vocs>348</vocs>\\r\\n<temp>25.5</temp>\\r\\n<humi>15</humi>\\r\\n<noise>30</noise>\\r\\n<cici>89</cici>\\r\\n</item>\\r\\n\\r\\n<item>\\r\\n\\r\\n<dataTime>2024-03-20 16:59</dataTime>\\r\\n<serialNo>V01T1623129</serialNo>\\r\\n<pm10>1</pm10>\\r\\n<pm25>1</pm25>\\r\\n<co2>977</co2>\\r\\n<vocs>311</vocs>\\r\\n<temp>26.2</temp>\\r\\n<humi>20</humi>\\r\\n<noise>33</noise>\\r\\n<cici>91</cici>\\r\\n</item>\\r\\n\\r\\n<item>\\r\\n\\r\\n<dataTime>2024-03-20 16:59</dataTime>\\r\\n<serialNo>V01T1623123</serialNo>\\r\\n<pm10>17</pm10>\\r\\n<pm25>8</pm25>\\r\\n<co2>804</co2>\\r\\n<vocs>288</vocs>\\r\\n<temp>24.4</temp>\\r\\n<humi>14</humi>\\r\\n<noise>43</noise>\\r\\n<cici>86</cici>\\r\\n</item>\\r\\n\\r\\n<item>\\r\\n\\r\\n<dataTime>2024-03-13 15:23</dataTime>\\r\\n<serialNo>V01T1623121</serialNo>\\r\\n<pm10>55</pm10>\\r\\n<pm25>24</pm25>\\r\\n<co2>426</co2>\\r\\n<vocs>132</vocs>\\r\\n<temp>18.0</temp>\\r\\n<humi>22</humi>\\r\\n<noise>43</noise>\\r\\n<cici>92</cici>\\r\\n</item>\\r\\n\\r\\n<item>\\r\\n\\r\\n<dataTime>2024-03-20 16:58</dataTime>\\r\\n<serialNo>V01T1623118</serialNo>\\r\\n<pm10>1</pm10>\\r\\n<pm25>1</pm25>\\r\\n<co2>493</co2>\\r\\n<vocs>189</vocs>\\r\\n<temp>22.6</temp>\\r\\n<humi>15</humi>\\r\\n<noise>34</noise>\\r\\n<cici>95</cici>\\r\\n</item>\\r\\n\\r\\n<item>\\r\\n\\r\\n<dataTime>2024-03-20 16:58</dataTime>\\r\\n<serialNo>V01T1623117</serialNo>\\r\\n<pm10>76</pm10>\\r\\n<pm25>31</pm25>\\r\\n<co2>1900</co2>\\r\\n<vocs>439</vocs>\\r\\n<temp>24.1</temp>\\r\\n<humi>30</humi>\\r\\n<noise>46</noise>\\r\\n<cici>70</cici>\\r\\n</item>\\r\\n\\r\\n<item>\\r\\n\\r\\n<dataTime>2024-03-20 16:59</dataTime>\\r\\n<serialNo>V01T1623116</serialNo>\\r\\n<pm10>26</pm10>\\r\\n<pm25>12</pm25>\\r\\n<co2>577</co2>\\r\\n<vocs>187</vocs>\\r\\n<temp>27.7</temp>\\r\\n<humi>16</humi>\\r\\n<noise>36</noise>\\r\\n<cici>83</cici>\\r\\n</item>\\r\\n\\r\\n<item>\\r\\n\\r\\n<dataTime>2024-03-20 16:59</dataTime>\\r\\n<serialNo>V01T1623113</serialNo>\\r\\n<pm10>19</pm10>\\r\\n<pm25>9</pm25>\\r\\n<co2>426</co2>\\r\\n<vocs>140</vocs>\\r\\n<temp>25.9</temp>\\r\\n<humi>8</humi>\\r\\n<noise>31</noise>\\r\\n<cici>90</cici>\\r\\n</item>\\r\\n\\r\\n<item>\\r\\n\\r\\n<dataTime>2024-03-20 16:59</dataTime>\\r\\n<serialNo>V01T1623112</serialNo>\\r\\n<pm10>34</pm10>\\r\\n<pm25>16</pm25>\\r\\n<co2>990</co2>\\r\\n<vocs>399</vocs>\\r\\n<temp>26.4</temp>\\r\\n<humi>23</humi>\\r\\n<noise>44</noise>\\r\\n<cici>84</cici>\\r\\n</item>\\r\\n\\r\\n<item>\\r\\n\\r\\n<dataTime>2024-03-20 16:59</dataTime>\\r\\n<serialNo>V01T1623109</serialNo>\\r\\n<pm10>41</pm10>\\r\\n<pm25>18</pm25>\\r\\n<co2>2362</co2>\\r\\n<vocs>179</vocs>\\r\\n<temp>10.9</temp>\\r\\n<humi>29</humi>\\r\\n<noise>41</noise>\\r\\n<cici>64</cici>\\r\\n</item>\\r\\n\\r\\n<item>\\r\\n\\r\\n<dataTime>2024-03-14 08:08</dataTime>\\r\\n<serialNo>V01T1623108</serialNo>\\r\\n<pm10>39</pm10>\\r\\n<pm25>18</pm25>\\r\\n<co2>623</co2>\\r\\n<vocs>125</vocs>\\r\\n<temp>20.3</temp>\\r\\n<humi>26</humi>\\r\\n<noise>33</noise>\\r\\n<cici>92</cici>\\r\\n</item>\\r\\n\\r\\n<item>\\r\\n\\r\\n<dataTime>2024-03-20 16:59</dataTime>\\r\\n<serialNo>V01T1623105</serialNo>\\r\\n<pm10>33</pm10>\\r\\n<pm25>15</pm25>\\r\\n<co2>556</co2>\\r\\n<vocs>142</vocs>\\r\\n<temp>20.9</temp>\\r\\n<humi>15</humi>\\r\\n<noise>34</noise>\\r\\n<cici>90</cici>\\r\\n</item>\\r\\n\\r\\n<item>\\r\\n\\r\\n<dataTime>2024-03-20 16:59</dataTime>\\r\\n<serialNo>V01T1623102</serialNo>\\r\\n<pm10>1</pm10>\\r\\n<pm25>1</pm25>\\r\\n<co2>1408</co2>\\r\\n<vocs>570</vocs>\\r\\n<temp>27.7</temp>\\r\\n<humi>17</humi>\\r\\n<noise>40</noise>\\r\\n<cici>71</cici>\\r\\n</item>\\r\\n\\r\\n<item>\\r\\n\\r\\n<dataTime>2024-03-20 16:59</dataTime>\\r\\n<serialNo>ICW0W2000503</serialNo>\\r\\n<pm10>9</pm10>\\r\\n<pm25>3</pm25>\\r\\n<co2>694</co2>\\r\\n<vocs>470</vocs>\\r\\n<temp>25.0</temp>\\r\\n<humi>24</humi>\\r\\n<noise>48</noise>\\r\\n<cici>86</cici>\\r\\n</item>\\r\\n\\r\\n<item>\\r\\n\\r\\n<dataTime>2024-03-20 16:59</dataTime>\\r\\n<serialNo>ICW0W2000455</serialNo>\\r\\n<pm10>12</pm10>\\r\\n<pm25>4</pm25>\\r\\n<co2>127</co2>\\r\\n<vocs>48</vocs>\\r\\n<temp>19.8</temp>\\r\\n<humi>29</humi>\\r\\n<noise>61</noise>\\r\\n<cici>100</cici>\\r\\n</item>\\r\\n\\r\\n<item>\\r\\n\\r\\n<dataTime>2024-03-20 16:59</dataTime>\\r\\n<serialNo>ICW0W2000447</serialNo>\\r\\n<pm10>14</pm10>\\r\\n<pm25>5</pm25>\\r\\n<co2>667</co2>\\r\\n<vocs>227</vocs>\\r\\n<temp>20.3</temp>\\r\\n<humi>25</humi>\\r\\n<noise>65</noise>\\r\\n<cici>94</cici>\\r\\n</item>\\r\\n\\r\\n<item>\\r\\n\\r\\n<dataTime>2024-03-20 16:59</dataTime>\\r\\n<serialNo>ICW0W2000459</serialNo>\\r\\n<pm10>16</pm10>\\r\\n<pm25>5</pm25>\\r\\n<co2>685</co2>\\r\\n<vocs>13</vocs>\\r\\n<temp>24.2</temp>\\r\\n<humi>20</humi>\\r\\n<noise>64</noise>\\r\\n<cici>94</cici>\\r\\n</item>\\r\\n\\r\\n<item>\\r\\n\\r\\n<dataTime>2024-03-20 16:59</dataTime>\\r\\n<serialNo>ICW0W2000507</serialNo>\\r\\n<pm10>7</pm10>\\r\\n<pm25>4</pm25>\\r\\n<co2>953</co2>\\r\\n<vocs>479</vocs>\\r\\n<temp>26.5</temp>\\r\\n<humi>23</humi>\\r\\n<noise>55</noise>\\r\\n<cici>85</cici>\\r\\n</item>\\r\\n\\r\\n<item>\\r\\n\\r\\n<dataTime>2024-03-20 16:59</dataTime>\\r\\n<serialNo>ICW0W2000501</serialNo>\\r\\n<pm10>10</pm10>\\r\\n<pm25>3</pm25>\\r\\n<co2>912</co2>\\r\\n<vocs>2094</vocs>\\r\\n<temp>22.2</temp>\\r\\n<humi>25</humi>\\r\\n<noise>60</noise>\\r\\n<cici>75</cici>\\r\\n</item>\\r\\n\\r\\n<item>\\r\\n\\r\\n<dataTime>2024-03-20 16:59</dataTime>\\r\\n<serialNo>ICW0W2000500</serialNo>\\r\\n<pm10>8</pm10>\\r\\n<pm25>4</pm25>\\r\\n<co2>2500</co2>\\r\\n<vocs>169</vocs>\\r\\n<temp>25.0</temp>\\r\\n<humi>18</humi>\\r\\n<noise>63</noise>\\r\\n<cici>72</cici>\\r\\n</item>\\r\\n\\r\\n<item>\\r\\n\\r\\n<dataTime>2024-03-20 16:59</dataTime>\\r\\n<serialNo>ICW0W2000380</serialNo>\\r\\n<pm10>27</pm10>\\r\\n<pm25>9</pm25>\\r\\n<co2>579</co2>\\r\\n<vocs>25</vocs>\\r\\n<temp>15.9</temp>\\r\\n<humi>28</humi>\\r\\n<noise>70</noise>\\r\\n<cici>89</cici>\\r\\n</item>\\r\\n\\r\\n<item>\\r\\n\\r\\n<dataTime>2024-03-20 16:59</dataTime>\\r\\n<serialNo>ICW0W2000275</serialNo>\\r\\n<pm10>20</pm10>\\r\\n<pm25>7</pm25>\\r\\n<co2>516</co2>\\r\\n<vocs>15</vocs>\\r\\n<temp>16.3</temp>\\r\\n<humi>28</humi>\\r\\n<noise>51</noise>\\r\\n<cici>94</cici>\\r\\n</item>\\r\\n\\r\\n<item>\\r\\n\\r\\n<dataTime>2024-03-20 16:59</dataTime>\\r\\n<serialNo>ICW0W2000388</serialNo>\\r\\n<pm10>26</pm10>\\r\\n<pm25>7</pm25>\\r\\n<co2>670</co2>\\r\\n<vocs>209</vocs>\\r\\n<temp>14.7</temp>\\r\\n<humi>27</humi>\\r\\n<noise>48</noise>\\r\\n<cici>86</cici>\\r\\n</item>\\r\\n\\r\\n<item>\\r\\n\\r\\n<dataTime>2024-01-15 14:01</dataTime>\\r\\n<serialNo>ICW0W2000381</serialNo>\\r\\n<pm10>8</pm10>\\r\\n<pm25>2</pm25>\\r\\n<co2>2500</co2>\\r\\n<vocs>123</vocs>\\r\\n<temp>26.0</temp>\\r\\n<humi>15</humi>\\r\\n<noise>53</noise>\\r\\n<cici>72</cici>\\r\\n</item>\\r\\n\\r\\n<item>\\r\\n\\r\\n<dataTime>2024-03-20 16:59</dataTime>\\r\\n<serialNo>ICW0W2000382</serialNo>\\r\\n<pm10>4</pm10>\\r\\n<pm25>1</pm25>\\r\\n<co2>500</co2>\\r\\n<vocs>36</vocs>\\r\\n<temp>22.2</temp>\\r\\n<humi>26</humi>\\r\\n<noise>65</noise>\\r\\n<cici>100</cici>\\r\\n</item>\\r\\n\\r\\n<item>\\r\\n\\r\\n<dataTime>2023-12-01 13:35</dataTime>\\r\\n<serialNo>ICW0W2000285</serialNo>\\r\\n<pm10>23</pm10>\\r\\n<pm25>4</pm25>\\r\\n<co2>921</co2>\\r\\n<vocs>1027</vocs>\\r\\n<temp>14.7</temp>\\r\\n<humi>22</humi>\\r\\n<noise>61</noise>\\r\\n<cici>70</cici>\\r\\n</item>\\r\\n\\r\\n<item>\\r\\n\\r\\n<dataTime>2024-03-20 16:59</dataTime>\\r\\n<serialNo>ICW0W2000287</serialNo>\\r\\n<pm10>9</pm10>\\r\\n<pm25>3</pm25>\\r\\n<co2>835</co2>\\r\\n<vocs>121</vocs>\\r\\n<temp>25.4</temp>\\r\\n<humi>20</humi>\\r\\n<noise>55</noise>\\r\\n<cici>93</cici>\\r\\n</item>\\r\\n\\r\\n<item>\\r\\n\\r\\n<dataTime>2024-03-20 16:59</dataTime>\\r\\n<serialNo>ICW0W2000398</serialNo>\\r\\n<pm10>20</pm10>\\r\\n<pm25>7</pm25>\\r\\n<co2>449</co2>\\r\\n<vocs>12</vocs>\\r\\n<temp>24.7</temp>\\r\\n<humi>16</humi>\\r\\n<noise>70</noise>\\r\\n<cici>92</cici>\\r\\n</item>\\r\\n\\r\\n<item>\\r\\n\\r\\n<dataTime>2024-03-20 16:59</dataTime>\\r\\n<serialNo>ICW0W2000974</serialNo>\\r\\n<pm10>6</pm10>\\r\\n<pm25>4</pm25>\\r\\n<co2>991</co2>\\r\\n<vocs>644</vocs>\\r\\n<temp>19.1</temp>\\r\\n<humi>28</humi>\\r\\n<noise>47</noise>\\r\\n<cici>85</cici>\\r\\n</item>\\r\\n\\r\\n<item>\\r\\n\\r\\n<dataTime>2024-03-20 16:59</dataTime>\\r\\n<serialNo>ICW0W2000248</serialNo>\\r\\n<pm10>12</pm10>\\r\\n<pm25>3</pm25>\\r\\n<co2>2190</co2>\\r\\n<vocs>147</vocs>\\r\\n<temp>24.4</temp>\\r\\n<humi>21</humi>\\r\\n<noise>66</noise>\\r\\n<cici>75</cici>\\r\\n</item>\\r\\n\\r\\n<item>\\r\\n\\r\\n<dataTime>2024-03-20 16:59</dataTime>\\r\\n<serialNo>ICW0W2000262</serialNo>\\r\\n<pm10>20</pm10>\\r\\n<pm25>6</pm25>\\r\\n<co2>479</co2>\\r\\n<vocs>15</vocs>\\r\\n<temp>19.6</temp>\\r\\n<humi>27</humi>\\r\\n<noise>60</noise>\\r\\n<cici>98</cici>\\r\\n</item>\\r\\n\\r\\n<item>\\r\\n\\r\\n<dataTime>2024-03-20 16:58</dataTime>\\r\\n<serialNo>ICW0W2100488</serialNo>\\r\\n<pm10>23</pm10>\\r\\n<pm25>8</pm25>\\r\\n<co2>491</co2>\\r\\n<vocs>159</vocs>\\r\\n<temp>23.2</temp>\\r\\n<humi>15</humi>\\r\\n<noise>75</noise>\\r\\n<cici>92</cici>\\r\\n</item>\\r\\n\\r\\n<item>\\r\\n\\r\\n<dataTime>2024-03-20 16:58</dataTime>\\r\\n<serialNo>ICW0W2100506</serialNo>\\r\\n<pm10>16</pm10>\\r\\n<pm25>6</pm25>\\r\\n<co2>847</co2>\\r\\n<vocs>36</vocs>\\r\\n<temp>28.6</temp>\\r\\n<humi>14</humi>\\r\\n<noise>69</noise>\\r\\n<cici>86</cici>\\r\\n</item>\\r\\n\\r\\n<item>\\r\\n\\r\\n<dataTime>2024-03-14 09:08</dataTime>\\r\\n<serialNo>ICW0W2100587</serialNo>\\r\\n<pm10>55</pm10>\\r\\n<pm25>20</pm25>\\r\\n<co2>392</co2>\\r\\n<vocs>6000</vocs>\\r\\n<temp>24.8</temp>\\r\\n<humi>23</humi>\\r\\n<noise>69</noise>\\r\\n<cici>62</cici>\\r\\n</item>\\r\\n\\r\\n<item>\\r\\n\\r\\n<dataTime>2024-03-20 16:58</dataTime>\\r\\n<serialNo>ICW0W2100582</serialNo>\\r\\n<pm10>26</pm10>\\r\\n<pm25>10</pm25>\\r\\n<co2>621</co2>\\r\\n<vocs>1510</vocs>\\r\\n<temp>22.5</temp>\\r\\n<humi>20</humi>\\r\\n<noise>59</noise>\\r\\n<cici>76</cici>\\r\\n</item>\\r\\n\\r\\n<item>\\r\\n\\r\\n<dataTime>2024-03-20 16:58</dataTime>\\r\\n<serialNo>ICW0W2100579</serialNo>\\r\\n<pm10>10</pm10>\\r\\n<pm25>4</pm25>\\r\\n<co2>0</co2>\\r\\n<vocs>747</vocs>\\r\\n<temp>26.8</temp>\\r\\n<humi>11</humi>\\r\\n<noise>61</noise>\\r\\n<cici>81</cici>\\r\\n</item>\\r\\n\\r\\n<item>\\r\\n\\r\\n<dataTime>2024-03-20 16:59</dataTime>\\r\\n<serialNo>ICW0W2100562</serialNo>\\r\\n<pm10>22</pm10>\\r\\n<pm25>12</pm25>\\r\\n<co2>613</co2>\\r\\n<vocs>918</vocs>\\r\\n<temp>22.8</temp>\\r\\n<humi>15</humi>\\r\\n<noise>58</noise>\\r\\n<cici>76</cici>\\r\\n</item>\\r\\n\\r\\n</items>\\r\\n<numOfRows>90</numOfRows>\\r\\n<pageNo>1</pageNo>\\r\\n<totalCount>87</totalCount>\\r\\n</body>\\r\\n</response>'\n"
     ]
    }
   ],
   "source": [
    "print(response.content)"
   ]
  },
  {
   "cell_type": "code",
   "execution_count": 7,
   "metadata": {},
   "outputs": [],
   "source": [
    "import requests, xmltodict ,json\n",
    "import numpy as np\n",
    "import pandas as pd\n",
    "import matplotlib.pyplot as plt"
   ]
  },
  {
   "cell_type": "code",
   "execution_count": 8,
   "metadata": {},
   "outputs": [
    {
     "data": {
      "text/html": [
       "<div>\n",
       "<style scoped>\n",
       "    .dataframe tbody tr th:only-of-type {\n",
       "        vertical-align: middle;\n",
       "    }\n",
       "\n",
       "    .dataframe tbody tr th {\n",
       "        vertical-align: top;\n",
       "    }\n",
       "\n",
       "    .dataframe thead th {\n",
       "        text-align: right;\n",
       "    }\n",
       "</style>\n",
       "<table border=\"1\" class=\"dataframe\">\n",
       "  <thead>\n",
       "    <tr style=\"text-align: right;\">\n",
       "      <th></th>\n",
       "      <th>데이터시간</th>\n",
       "      <th>시리얼 번호</th>\n",
       "      <th>미세먼지 (㎍/㎥)</th>\n",
       "      <th>초미세먼지 (㎍/㎥)</th>\n",
       "      <th>이산화탄소(ppm)</th>\n",
       "      <th>휘발성유기화합물 (ppb)</th>\n",
       "      <th>온도(℃)</th>\n",
       "      <th>습도(%)</th>\n",
       "      <th>소음(dB)</th>\n",
       "      <th>통합실내지수</th>\n",
       "    </tr>\n",
       "  </thead>\n",
       "  <tbody>\n",
       "    <tr>\n",
       "      <th>0</th>\n",
       "      <td>2024-03-21 14:34</td>\n",
       "      <td>ICW0W2100481</td>\n",
       "      <td>6</td>\n",
       "      <td>2</td>\n",
       "      <td>1760</td>\n",
       "      <td>5994</td>\n",
       "      <td>21.7</td>\n",
       "      <td>35</td>\n",
       "      <td>66</td>\n",
       "      <td>67</td>\n",
       "    </tr>\n",
       "    <tr>\n",
       "      <th>1</th>\n",
       "      <td>2024-03-14 09:08</td>\n",
       "      <td>ICW0W2100587</td>\n",
       "      <td>55</td>\n",
       "      <td>20</td>\n",
       "      <td>392</td>\n",
       "      <td>6000</td>\n",
       "      <td>24.8</td>\n",
       "      <td>23</td>\n",
       "      <td>69</td>\n",
       "      <td>62</td>\n",
       "    </tr>\n",
       "    <tr>\n",
       "      <th>2</th>\n",
       "      <td>2024-03-21 14:34</td>\n",
       "      <td>ICW0W2100582</td>\n",
       "      <td>30</td>\n",
       "      <td>11</td>\n",
       "      <td>608</td>\n",
       "      <td>190</td>\n",
       "      <td>22.8</td>\n",
       "      <td>20</td>\n",
       "      <td>66</td>\n",
       "      <td>93</td>\n",
       "    </tr>\n",
       "    <tr>\n",
       "      <th>3</th>\n",
       "      <td>2024-03-21 14:34</td>\n",
       "      <td>ICW0W2100579</td>\n",
       "      <td>16</td>\n",
       "      <td>6</td>\n",
       "      <td>0</td>\n",
       "      <td>67</td>\n",
       "      <td>25.6</td>\n",
       "      <td>11</td>\n",
       "      <td>60</td>\n",
       "      <td>94</td>\n",
       "    </tr>\n",
       "    <tr>\n",
       "      <th>4</th>\n",
       "      <td>2024-03-21 14:35</td>\n",
       "      <td>ICW0W2100562</td>\n",
       "      <td>25</td>\n",
       "      <td>14</td>\n",
       "      <td>585</td>\n",
       "      <td>55145</td>\n",
       "      <td>24.3</td>\n",
       "      <td>14</td>\n",
       "      <td>58</td>\n",
       "      <td>51</td>\n",
       "    </tr>\n",
       "    <tr>\n",
       "      <th>...</th>\n",
       "      <td>...</td>\n",
       "      <td>...</td>\n",
       "      <td>...</td>\n",
       "      <td>...</td>\n",
       "      <td>...</td>\n",
       "      <td>...</td>\n",
       "      <td>...</td>\n",
       "      <td>...</td>\n",
       "      <td>...</td>\n",
       "      <td>...</td>\n",
       "    </tr>\n",
       "    <tr>\n",
       "      <th>82</th>\n",
       "      <td>2024-03-14 09:08</td>\n",
       "      <td>ICW0W2100587</td>\n",
       "      <td>55</td>\n",
       "      <td>20</td>\n",
       "      <td>392</td>\n",
       "      <td>6000</td>\n",
       "      <td>24.8</td>\n",
       "      <td>23</td>\n",
       "      <td>69</td>\n",
       "      <td>62</td>\n",
       "    </tr>\n",
       "    <tr>\n",
       "      <th>83</th>\n",
       "      <td>2024-03-21 14:33</td>\n",
       "      <td>ICW0W2100582</td>\n",
       "      <td>29</td>\n",
       "      <td>10</td>\n",
       "      <td>611</td>\n",
       "      <td>190</td>\n",
       "      <td>22.8</td>\n",
       "      <td>20</td>\n",
       "      <td>65</td>\n",
       "      <td>93</td>\n",
       "    </tr>\n",
       "    <tr>\n",
       "      <th>84</th>\n",
       "      <td>2024-03-21 14:33</td>\n",
       "      <td>ICW0W2100579</td>\n",
       "      <td>19</td>\n",
       "      <td>7</td>\n",
       "      <td>0</td>\n",
       "      <td>72</td>\n",
       "      <td>25.6</td>\n",
       "      <td>11</td>\n",
       "      <td>60</td>\n",
       "      <td>93</td>\n",
       "    </tr>\n",
       "    <tr>\n",
       "      <th>85</th>\n",
       "      <td>2024-03-21 14:34</td>\n",
       "      <td>ICW0W2100562</td>\n",
       "      <td>24</td>\n",
       "      <td>13</td>\n",
       "      <td>584</td>\n",
       "      <td>54470</td>\n",
       "      <td>24.3</td>\n",
       "      <td>14</td>\n",
       "      <td>66</td>\n",
       "      <td>51</td>\n",
       "    </tr>\n",
       "    <tr>\n",
       "      <th>86</th>\n",
       "      <td>2024-03-21 14:33</td>\n",
       "      <td>ICW0W2100560</td>\n",
       "      <td>17</td>\n",
       "      <td>6</td>\n",
       "      <td>501</td>\n",
       "      <td>6000</td>\n",
       "      <td>24.0</td>\n",
       "      <td>15</td>\n",
       "      <td>58</td>\n",
       "      <td>65</td>\n",
       "    </tr>\n",
       "  </tbody>\n",
       "</table>\n",
       "<p>87 rows × 10 columns</p>\n",
       "</div>"
      ],
      "text/plain": [
       "               데이터시간        시리얼 번호 미세먼지 (㎍/㎥) 초미세먼지 (㎍/㎥) 이산화탄소(ppm)  \\\n",
       "0   2024-03-21 14:34  ICW0W2100481          6           2       1760   \n",
       "1   2024-03-14 09:08  ICW0W2100587         55          20        392   \n",
       "2   2024-03-21 14:34  ICW0W2100582         30          11        608   \n",
       "3   2024-03-21 14:34  ICW0W2100579         16           6          0   \n",
       "4   2024-03-21 14:35  ICW0W2100562         25          14        585   \n",
       "..               ...           ...        ...         ...        ...   \n",
       "82  2024-03-14 09:08  ICW0W2100587         55          20        392   \n",
       "83  2024-03-21 14:33  ICW0W2100582         29          10        611   \n",
       "84  2024-03-21 14:33  ICW0W2100579         19           7          0   \n",
       "85  2024-03-21 14:34  ICW0W2100562         24          13        584   \n",
       "86  2024-03-21 14:33  ICW0W2100560         17           6        501   \n",
       "\n",
       "   휘발성유기화합물 (ppb) 온도(℃) 습도(%) 소음(dB) 통합실내지수  \n",
       "0            5994  21.7    35     66     67  \n",
       "1            6000  24.8    23     69     62  \n",
       "2             190  22.8    20     66     93  \n",
       "3              67  25.6    11     60     94  \n",
       "4           55145  24.3    14     58     51  \n",
       "..            ...   ...   ...    ...    ...  \n",
       "82           6000  24.8    23     69     62  \n",
       "83            190  22.8    20     65     93  \n",
       "84             72  25.6    11     60     93  \n",
       "85          54470  24.3    14     66     51  \n",
       "86           6000  24.0    15     58     65  \n",
       "\n",
       "[87 rows x 10 columns]"
      ]
     },
     "execution_count": 8,
     "metadata": {},
     "output_type": "execute_result"
    }
   ],
   "source": [
    "dict_res = xmltodict.parse(response.content)\n",
    "json_string = json.dumps(dict_res['response']['body']['items'], ensure_ascii=False)\n",
    "\n",
    "jsonObj = json.loads(json_string)\n",
    "df = pd.DataFrame(jsonObj['item'])\n",
    "df.columns = ['데이터시간','시리얼 번호','미세먼지 (㎍/㎥)', '초미세먼지 (㎍/㎥)', '이산화탄소(ppm)', '휘발성유기화합물 (ppb)'\n",
    "             ,'온도(℃)','습도(%)','소음(dB)','통합실내지수']\n",
    "\n",
    "df\n"
   ]
  },
  {
   "cell_type": "markdown",
   "metadata": {},
   "source": [
    "                                                                                                                                                                                                                                                                                                                          "
   ]
  },
  {
   "cell_type": "code",
   "execution_count": 14,
   "metadata": {},
   "outputs": [],
   "source": [
    "df.to_excel('서초구_다중이용시설 IoT 실시간 실내 공기질 측정 데이터.xlsx')"
   ]
  },
  {
   "cell_type": "code",
   "execution_count": 5,
   "metadata": {},
   "outputs": [],
   "source": [
    "df.to_excel('서초구_다중이용시설 IoT 실시간 실내 공기질 측정 데이터1.xlsx')"
   ]
  },
  {
   "cell_type": "code",
   "execution_count": 6,
   "metadata": {},
   "outputs": [],
   "source": [
    "df.to_excel('서초구_다중이용시설 IoT 실시간 실내 공기질 측정 데이터2.xlsx')"
   ]
  },
  {
   "cell_type": "code",
   "execution_count": 5,
   "metadata": {},
   "outputs": [],
   "source": [
    "df.to_csv('서초구_다중이용시설 IoT 실시간 실내 공기질 측정 데이터.csv', mode='a', index=False)"
   ]
  },
  {
   "cell_type": "code",
   "execution_count": 4,
   "metadata": {},
   "outputs": [],
   "source": [
    "df.to_excel('서초구_다중이용시설 IoT 실시간 실내 공기질 측정 데이터3.xlsx')"
   ]
  },
  {
   "cell_type": "code",
   "execution_count": 9,
   "metadata": {},
   "outputs": [],
   "source": [
    "df.to_excel('서초구_다중이용시설 IoT 실시간 실내 공기질 측정 데이터5.xlsx')"
   ]
  },
  {
   "cell_type": "code",
   "execution_count": 3,
   "metadata": {},
   "outputs": [],
   "source": [
    "df.r"
   ]
  },
  {
   "cell_type": "code",
   "execution_count": null,
   "metadata": {},
   "outputs": [],
   "source": []
  },
  {
   "cell_type": "code",
   "execution_count": null,
   "metadata": {},
   "outputs": [],
   "source": []
  },
  {
   "cell_type": "code",
   "execution_count": 16,
   "metadata": {},
   "outputs": [],
   "source": []
  },
  {
   "cell_type": "code",
   "execution_count": 21,
   "metadata": {},
   "outputs": [],
   "source": []
  },
  {
   "cell_type": "code",
   "execution_count": 27,
   "metadata": {},
   "outputs": [],
   "source": []
  },
  {
   "cell_type": "code",
   "execution_count": null,
   "metadata": {},
   "outputs": [],
   "source": []
  }
 ],
 "metadata": {
  "kernelspec": {
   "display_name": "Python 3",
   "language": "python",
   "name": "python3"
  },
  "language_info": {
   "codemirror_mode": {
    "name": "ipython",
    "version": 3
   },
   "file_extension": ".py",
   "mimetype": "text/x-python",
   "name": "python",
   "nbconvert_exporter": "python",
   "pygments_lexer": "ipython3",
   "version": "3.12.2"
  }
 },
 "nbformat": 4,
 "nbformat_minor": 2
}
