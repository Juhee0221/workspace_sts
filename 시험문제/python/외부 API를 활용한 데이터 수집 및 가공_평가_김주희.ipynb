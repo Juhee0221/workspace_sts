{
 "cells": [
  {
   "cell_type": "markdown",
   "metadata": {},
   "source": [
    "### 외부 API를 활용한 데이터 수집 및 가공 평가"
   ]
  },
  {
   "cell_type": "markdown",
   "metadata": {},
   "source": [
    "##### 1. 키보드로 두 수를 입력받아 큰 수부터 출력하는 프로그램을 작성하시요. 단, 입력받는 두 수는 중복이 없다고 가정한다."
   ]
  },
  {
   "cell_type": "code",
   "execution_count": 116,
   "metadata": {},
   "outputs": [
    {
     "name": "stdout",
     "output_type": "stream",
     "text": [
      "큰 값 :  30 작은 값 : 20\n"
     ]
    }
   ],
   "source": [
    "# 1번 문제 답안 작성\n",
    "\n",
    "num1 = []\n",
    "\n",
    "for i in range(2) :\n",
    "    num2 = int(input(f'{i + 1}번째 수 : '))\n",
    "    num1.append(num2)\n",
    "\n",
    "print('큰 값 : ', max(num1) , '작은 값 :', min(num1) )"
   ]
  },
  {
   "cell_type": "markdown",
   "metadata": {},
   "source": [
    "##### 2. 키보드로 세 수를 입력받고,입력받은 세 수를 리스트에 저장하시오.<br> 그 후 리스트에 저장된 수 중 가장 큰 수와 가장 작은 수의 차를 출력하시오. (10점)"
   ]
  },
  {
   "cell_type": "code",
   "execution_count": 117,
   "metadata": {},
   "outputs": [
    {
     "name": "stdout",
     "output_type": "stream",
     "text": [
      "[10, 20, 30]\n",
      "20\n"
     ]
    }
   ],
   "source": [
    "# 2번 문제 답안 작성\n",
    "\n",
    "num1 = []\n",
    "\n",
    "for i in range(3) :\n",
    "    num2 = int(input(f'{i + 1}번째 값 : '))\n",
    "    num1.append(num2)\n",
    "\n",
    "print(num1)\n",
    "print(max(num1) - min(num1))"
   ]
  },
  {
   "cell_type": "markdown",
   "metadata": {},
   "source": [
    "##### 3. 매개변수로 두 정수를 받아, 두 정수 사이의(두 정수 포함) 모든 정수를 갖는 리스트를 리턴하는 함수를 구현하시오."
   ]
  },
  {
   "cell_type": "code",
   "execution_count": 118,
   "metadata": {},
   "outputs": [
    {
     "name": "stdout",
     "output_type": "stream",
     "text": [
      "[10, 11, 12, 13, 14, 15, 16, 17, 18, 19, 20]\n"
     ]
    }
   ],
   "source": [
    "# 3번 문제 답안 작성\n",
    "list1 = []\n",
    "\n",
    "def get_sum(a,b) :\n",
    "    for i in range(min(a,b),max(a,b)+1) :\n",
    "        list1.append(i)\n",
    "    return list1\n",
    "\n",
    "print(get_sum(10,20))"
   ]
  },
  {
   "cell_type": "markdown",
   "metadata": {},
   "source": [
    "##### 다음 딕셔너리 데이터를 참고하여 아래 문제들을 해결하시오."
   ]
  },
  {
   "cell_type": "code",
   "execution_count": 1,
   "metadata": {},
   "outputs": [],
   "source": [
    "# 2012년 광역시별 25세 미만 연령별 인구 데이터\n",
    "population = {\n",
    "    '행정기관' : ['서울특별시', '부산광역시', '대구광역시', '인천광역시', '울산광역시'],\n",
    "    '0~4세' : [214651, 68006, 53515, 69453, 29835],\n",
    "    '5~9세' : [210833, 68704, 58332, 68555, 29331],\n",
    "    '10~14세' : [269171, 94802, 91268, 86574, 29035],\n",
    "    '15~19세' : [335828, 124564, 101110, 106435, 49119],\n",
    "    '20~24세' : [343797, 125907, 96078, 102297, 43937]\n",
    "}"
   ]
  },
  {
   "cell_type": "markdown",
   "metadata": {},
   "source": [
    "##### 4. 2012년 기준 대한민국에서 25세 미만의 인구수 중 인구가 가장 많은 연령대를 출력하시오."
   ]
  },
  {
   "cell_type": "code",
   "execution_count": 119,
   "metadata": {},
   "outputs": [
    {
     "name": "stdout",
     "output_type": "stream",
     "text": [
      "인구가 가장 많은 연령대 :  15~19세\n"
     ]
    }
   ],
   "source": [
    "# 4번 문제 답안 작성\n",
    "\n",
    "pop_max = 0\n",
    "pop_key = ''\n",
    "\n",
    "for i in population :\n",
    "    if i != '행정기관' :\n",
    "        # print(f'{i} : {int(sum(population[i]))}')\n",
    "        if pop_max < sum(population[i]) :\n",
    "            pop_max = sum(population[i])\n",
    "            pop_key = i\n",
    "\n",
    "print('인구가 가장 많은 연령대 : ', pop_key) "
   ]
  },
  {
   "cell_type": "markdown",
   "metadata": {},
   "source": [
    "##### 5. '총 인구수' 라는 키를 추가하고, 해당 키에 1세부터 24세까지의 인구 합을 데이터로 하여 population 데이터에 추가하시오."
   ]
  },
  {
   "cell_type": "code",
   "execution_count": 120,
   "metadata": {},
   "outputs": [
    {
     "data": {
      "text/plain": [
       "{'행정기관': ['서울특별시', '부산광역시', '대구광역시', '인천광역시', '울산광역시'],\n",
       " '0~4세': [214651, 68006, 53515, 69453, 29835],\n",
       " '5~9세': [210833, 68704, 58332, 68555, 29331],\n",
       " '10~14세': [269171, 94802, 91268, 86574, 29035],\n",
       " '15~19세': [335828, 124564, 101110, 106435, 49119],\n",
       " '20~24세': [343797, 125907, 96078, 102297, 43937],\n",
       " '총 인구 수': [1374280, 481983, 400303, 433314, 181257]}"
      ]
     },
     "execution_count": 120,
     "metadata": {},
     "output_type": "execute_result"
    }
   ],
   "source": [
    "# 5번 문제 답안 작성\n",
    "\n",
    "result_list = []\n",
    "\n",
    "# 0 ~ 4 \n",
    "for i in range(len(population['행정기관'])) :\n",
    "    sum1 = 0\n",
    "    for sum2 in population :\n",
    "        if sum2 != '행정기관' :\n",
    "            sum1 = sum1 + population[sum2][i]\n",
    "    result_list.append(sum1)\n",
    "    \n",
    "population['총 인구 수'] = result_list\n",
    "\n",
    "population"
   ]
  },
  {
   "cell_type": "markdown",
   "metadata": {},
   "source": [
    "##### 다음의 인구 데이터를 DataFrame으로 변환한 내용이다. 아래 내용을 참고하여 문제를 해결하시오."
   ]
  },
  {
   "cell_type": "code",
   "execution_count": 67,
   "metadata": {},
   "outputs": [
    {
     "data": {
      "text/html": [
       "<div>\n",
       "<style scoped>\n",
       "    .dataframe tbody tr th:only-of-type {\n",
       "        vertical-align: middle;\n",
       "    }\n",
       "\n",
       "    .dataframe tbody tr th {\n",
       "        vertical-align: top;\n",
       "    }\n",
       "\n",
       "    .dataframe thead th {\n",
       "        text-align: right;\n",
       "    }\n",
       "</style>\n",
       "<table border=\"1\" class=\"dataframe\">\n",
       "  <thead>\n",
       "    <tr style=\"text-align: right;\">\n",
       "      <th></th>\n",
       "      <th>0~4세</th>\n",
       "      <th>5~9세</th>\n",
       "      <th>10~14세</th>\n",
       "      <th>15~19세</th>\n",
       "      <th>20~24세</th>\n",
       "    </tr>\n",
       "    <tr>\n",
       "      <th>행정기관</th>\n",
       "      <th></th>\n",
       "      <th></th>\n",
       "      <th></th>\n",
       "      <th></th>\n",
       "      <th></th>\n",
       "    </tr>\n",
       "  </thead>\n",
       "  <tbody>\n",
       "    <tr>\n",
       "      <th>서울특별시</th>\n",
       "      <td>214651</td>\n",
       "      <td>210833</td>\n",
       "      <td>269171</td>\n",
       "      <td>335828</td>\n",
       "      <td>343797</td>\n",
       "    </tr>\n",
       "    <tr>\n",
       "      <th>부산광역시</th>\n",
       "      <td>68006</td>\n",
       "      <td>68704</td>\n",
       "      <td>94802</td>\n",
       "      <td>124564</td>\n",
       "      <td>125907</td>\n",
       "    </tr>\n",
       "    <tr>\n",
       "      <th>대구광역시</th>\n",
       "      <td>53515</td>\n",
       "      <td>58332</td>\n",
       "      <td>91268</td>\n",
       "      <td>101110</td>\n",
       "      <td>96078</td>\n",
       "    </tr>\n",
       "    <tr>\n",
       "      <th>인천광역시</th>\n",
       "      <td>69453</td>\n",
       "      <td>68555</td>\n",
       "      <td>86574</td>\n",
       "      <td>106435</td>\n",
       "      <td>102297</td>\n",
       "    </tr>\n",
       "    <tr>\n",
       "      <th>울산광역시</th>\n",
       "      <td>29835</td>\n",
       "      <td>29331</td>\n",
       "      <td>29035</td>\n",
       "      <td>49119</td>\n",
       "      <td>43937</td>\n",
       "    </tr>\n",
       "  </tbody>\n",
       "</table>\n",
       "</div>"
      ],
      "text/plain": [
       "         0~4세    5~9세  10~14세  15~19세  20~24세\n",
       "행정기관                                         \n",
       "서울특별시  214651  210833  269171  335828  343797\n",
       "부산광역시   68006   68704   94802  124564  125907\n",
       "대구광역시   53515   58332   91268  101110   96078\n",
       "인천광역시   69453   68555   86574  106435  102297\n",
       "울산광역시   29835   29331   29035   49119   43937"
      ]
     },
     "execution_count": 67,
     "metadata": {},
     "output_type": "execute_result"
    }
   ],
   "source": [
    "# 판다스 라이브러리 임포트\n",
    "import pandas as pd\n",
    "import numpy as np\n",
    "\n",
    "# 데이터프레임 생성\n",
    "df = pd.DataFrame(population)\n",
    "\n",
    "# 행정기관을 인덱스로 지정\n",
    "df.index = df['행정기관']\n",
    "\n",
    "# 컬럼에서 행정기관을 제거\n",
    "df.drop(['행정기관'], axis=1, inplace=True)\n",
    "\n",
    "df"
   ]
  },
  {
   "cell_type": "markdown",
   "metadata": {},
   "source": [
    "##### 6. 서울특별시, 대구광역시, 울산광역시의 5~9세, 10~14세, 15~19세의 인구수를 조회하시오."
   ]
  },
  {
   "cell_type": "code",
   "execution_count": 84,
   "metadata": {},
   "outputs": [
    {
     "data": {
      "text/html": [
       "<div>\n",
       "<style scoped>\n",
       "    .dataframe tbody tr th:only-of-type {\n",
       "        vertical-align: middle;\n",
       "    }\n",
       "\n",
       "    .dataframe tbody tr th {\n",
       "        vertical-align: top;\n",
       "    }\n",
       "\n",
       "    .dataframe thead th {\n",
       "        text-align: right;\n",
       "    }\n",
       "</style>\n",
       "<table border=\"1\" class=\"dataframe\">\n",
       "  <thead>\n",
       "    <tr style=\"text-align: right;\">\n",
       "      <th></th>\n",
       "      <th>5~9세</th>\n",
       "      <th>10~14세</th>\n",
       "      <th>15~19세</th>\n",
       "    </tr>\n",
       "    <tr>\n",
       "      <th>행정기관</th>\n",
       "      <th></th>\n",
       "      <th></th>\n",
       "      <th></th>\n",
       "    </tr>\n",
       "  </thead>\n",
       "  <tbody>\n",
       "    <tr>\n",
       "      <th>서울특별시</th>\n",
       "      <td>210833</td>\n",
       "      <td>269171</td>\n",
       "      <td>335828</td>\n",
       "    </tr>\n",
       "    <tr>\n",
       "      <th>대구광역시</th>\n",
       "      <td>58332</td>\n",
       "      <td>91268</td>\n",
       "      <td>101110</td>\n",
       "    </tr>\n",
       "    <tr>\n",
       "      <th>울산광역시</th>\n",
       "      <td>29331</td>\n",
       "      <td>29035</td>\n",
       "      <td>49119</td>\n",
       "    </tr>\n",
       "  </tbody>\n",
       "</table>\n",
       "</div>"
      ],
      "text/plain": [
       "         5~9세  10~14세  15~19세\n",
       "행정기관                         \n",
       "서울특별시  210833  269171  335828\n",
       "대구광역시   58332   91268  101110\n",
       "울산광역시   29331   29035   49119"
      ]
     },
     "execution_count": 84,
     "metadata": {},
     "output_type": "execute_result"
    }
   ],
   "source": [
    "# 6번 문제 답안 작성\n",
    "\n",
    "# df.loc[['서울특별시', '대구광역시', '울산광역시'], ['5~9세', '10~14세','15~19세']]\n",
    "\n",
    "df.iloc[[0,2,4],[1,2,3]]"
   ]
  },
  {
   "cell_type": "markdown",
   "metadata": {},
   "source": [
    "##### 7. '총 인구수' 컬럼을 추가하고 인구수의 합을 데이터로 추가하시오."
   ]
  },
  {
   "cell_type": "code",
   "execution_count": 102,
   "metadata": {},
   "outputs": [
    {
     "data": {
      "text/html": [
       "<div>\n",
       "<style scoped>\n",
       "    .dataframe tbody tr th:only-of-type {\n",
       "        vertical-align: middle;\n",
       "    }\n",
       "\n",
       "    .dataframe tbody tr th {\n",
       "        vertical-align: top;\n",
       "    }\n",
       "\n",
       "    .dataframe thead th {\n",
       "        text-align: right;\n",
       "    }\n",
       "</style>\n",
       "<table border=\"1\" class=\"dataframe\">\n",
       "  <thead>\n",
       "    <tr style=\"text-align: right;\">\n",
       "      <th></th>\n",
       "      <th>0~4세</th>\n",
       "      <th>5~9세</th>\n",
       "      <th>10~14세</th>\n",
       "      <th>15~19세</th>\n",
       "      <th>20~24세</th>\n",
       "      <th>총 인구수</th>\n",
       "    </tr>\n",
       "    <tr>\n",
       "      <th>행정기관</th>\n",
       "      <th></th>\n",
       "      <th></th>\n",
       "      <th></th>\n",
       "      <th></th>\n",
       "      <th></th>\n",
       "      <th></th>\n",
       "    </tr>\n",
       "  </thead>\n",
       "  <tbody>\n",
       "    <tr>\n",
       "      <th>서울특별시</th>\n",
       "      <td>214651</td>\n",
       "      <td>210833</td>\n",
       "      <td>269171</td>\n",
       "      <td>335828</td>\n",
       "      <td>343797</td>\n",
       "      <td>1374280</td>\n",
       "    </tr>\n",
       "    <tr>\n",
       "      <th>부산광역시</th>\n",
       "      <td>68006</td>\n",
       "      <td>68704</td>\n",
       "      <td>94802</td>\n",
       "      <td>124564</td>\n",
       "      <td>125907</td>\n",
       "      <td>481983</td>\n",
       "    </tr>\n",
       "    <tr>\n",
       "      <th>대구광역시</th>\n",
       "      <td>53515</td>\n",
       "      <td>58332</td>\n",
       "      <td>91268</td>\n",
       "      <td>101110</td>\n",
       "      <td>96078</td>\n",
       "      <td>400303</td>\n",
       "    </tr>\n",
       "    <tr>\n",
       "      <th>인천광역시</th>\n",
       "      <td>69453</td>\n",
       "      <td>68555</td>\n",
       "      <td>86574</td>\n",
       "      <td>106435</td>\n",
       "      <td>102297</td>\n",
       "      <td>433314</td>\n",
       "    </tr>\n",
       "    <tr>\n",
       "      <th>울산광역시</th>\n",
       "      <td>29835</td>\n",
       "      <td>29331</td>\n",
       "      <td>29035</td>\n",
       "      <td>49119</td>\n",
       "      <td>43937</td>\n",
       "      <td>181257</td>\n",
       "    </tr>\n",
       "  </tbody>\n",
       "</table>\n",
       "</div>"
      ],
      "text/plain": [
       "         0~4세    5~9세  10~14세  15~19세  20~24세    총 인구수\n",
       "행정기관                                                  \n",
       "서울특별시  214651  210833  269171  335828  343797  1374280\n",
       "부산광역시   68006   68704   94802  124564  125907   481983\n",
       "대구광역시   53515   58332   91268  101110   96078   400303\n",
       "인천광역시   69453   68555   86574  106435  102297   433314\n",
       "울산광역시   29835   29331   29035   49119   43937   181257"
      ]
     },
     "execution_count": 102,
     "metadata": {},
     "output_type": "execute_result"
    }
   ],
   "source": [
    "# 7번 문제 답안 작성\n",
    "\n",
    "df['총 인구수'] = df.loc[:, '0~4세':'20~24세'].sum(axis=1)\n",
    "\n",
    "df"
   ]
  },
  {
   "cell_type": "markdown",
   "metadata": {},
   "source": [
    "##### 8. 20~24세의 인구수가 100,000에서 200,000사이인 데이터를 조회하시오."
   ]
  },
  {
   "cell_type": "code",
   "execution_count": 115,
   "metadata": {},
   "outputs": [
    {
     "data": {
      "text/html": [
       "<div>\n",
       "<style scoped>\n",
       "    .dataframe tbody tr th:only-of-type {\n",
       "        vertical-align: middle;\n",
       "    }\n",
       "\n",
       "    .dataframe tbody tr th {\n",
       "        vertical-align: top;\n",
       "    }\n",
       "\n",
       "    .dataframe thead th {\n",
       "        text-align: right;\n",
       "    }\n",
       "</style>\n",
       "<table border=\"1\" class=\"dataframe\">\n",
       "  <thead>\n",
       "    <tr style=\"text-align: right;\">\n",
       "      <th></th>\n",
       "      <th>0~4세</th>\n",
       "      <th>5~9세</th>\n",
       "      <th>10~14세</th>\n",
       "      <th>15~19세</th>\n",
       "      <th>20~24세</th>\n",
       "      <th>총 인구수</th>\n",
       "    </tr>\n",
       "    <tr>\n",
       "      <th>행정기관</th>\n",
       "      <th></th>\n",
       "      <th></th>\n",
       "      <th></th>\n",
       "      <th></th>\n",
       "      <th></th>\n",
       "      <th></th>\n",
       "    </tr>\n",
       "  </thead>\n",
       "  <tbody>\n",
       "    <tr>\n",
       "      <th>부산광역시</th>\n",
       "      <td>68006</td>\n",
       "      <td>68704</td>\n",
       "      <td>94802</td>\n",
       "      <td>124564</td>\n",
       "      <td>125907</td>\n",
       "      <td>481983</td>\n",
       "    </tr>\n",
       "    <tr>\n",
       "      <th>인천광역시</th>\n",
       "      <td>69453</td>\n",
       "      <td>68555</td>\n",
       "      <td>86574</td>\n",
       "      <td>106435</td>\n",
       "      <td>102297</td>\n",
       "      <td>433314</td>\n",
       "    </tr>\n",
       "  </tbody>\n",
       "</table>\n",
       "</div>"
      ],
      "text/plain": [
       "        0~4세   5~9세  10~14세  15~19세  20~24세   총 인구수\n",
       "행정기관                                               \n",
       "부산광역시  68006  68704   94802  124564  125907  481983\n",
       "인천광역시  69453  68555   86574  106435  102297  433314"
      ]
     },
     "execution_count": 115,
     "metadata": {},
     "output_type": "execute_result"
    }
   ],
   "source": [
    "# 8번 문제 답안 작성\n",
    "\n",
    "df[(df['20~24세'] > 100000) & (df['20~24세'] < 200000)]\n"
   ]
  },
  {
   "cell_type": "code",
   "execution_count": null,
   "metadata": {},
   "outputs": [],
   "source": []
  },
  {
   "cell_type": "code",
   "execution_count": null,
   "metadata": {},
   "outputs": [],
   "source": []
  }
 ],
 "metadata": {
  "kernelspec": {
   "display_name": "Python 3",
   "language": "python",
   "name": "python3"
  },
  "language_info": {
   "codemirror_mode": {
    "name": "ipython",
    "version": 3
   },
   "file_extension": ".py",
   "mimetype": "text/x-python",
   "name": "python",
   "nbconvert_exporter": "python",
   "pygments_lexer": "ipython3",
   "version": "3.12.2"
  }
 },
 "nbformat": 4,
 "nbformat_minor": 2
}
