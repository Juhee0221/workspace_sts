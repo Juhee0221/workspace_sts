{
 "cells": [
  {
   "cell_type": "markdown",
   "metadata": {},
   "source": [
    "### 외부 API를 활용한 데이터 수집 및 가공 평가"
   ]
  },
  {
   "cell_type": "markdown",
   "metadata": {},
   "source": [
    "##### 1. 키보드로 두 수를 입력받아 큰 수부터 출력하는 프로그램을 작성하시요. 단, 입력받는 두 수는 중복이 없다고 가정한다."
   ]
  },
  {
   "cell_type": "code",
   "execution_count": 7,
   "metadata": {},
   "outputs": [
    {
     "name": "stdout",
     "output_type": "stream",
     "text": [
      "큰 값 :  30 작은 값 : 20\n"
     ]
    }
   ],
   "source": [
    "# 1번 문제 답안 작성\n",
    "\n",
    "num1 = []\n",
    "\n",
    "for i in range(2) :\n",
    "    num2 = int(input(f'{i + 1}번째 수 : '))\n",
    "    num1.append(num2)\n",
    "\n",
    "print('큰 값 : ', max(num1) , '작은 값 :', min(num1) )"
   ]
  },
  {
   "cell_type": "markdown",
   "metadata": {},
   "source": []
  },
  {
   "cell_type": "markdown",
   "metadata": {},
   "source": [
    "##### 2. 키보드로 세 수를 입력받고,입력받은 세 수를 리스트에 저장하시오.<br> 그 후 리스트에 저장된 수 중 가장 큰 수와 가장 작은 수의 차를 출력하시오. (10점)"
   ]
  },
  {
   "cell_type": "code",
   "execution_count": 8,
   "metadata": {},
   "outputs": [
    {
     "name": "stdout",
     "output_type": "stream",
     "text": [
      "[20, 30, 10]\n",
      "20\n"
     ]
    }
   ],
   "source": [
    "# 2번 문제 답안 작성\n",
    "\n",
    "num1 = []\n",
    "\n",
    "for i in range(3) :\n",
    "    num2 = int(input(f'{i + 1}번째 값 : '))\n",
    "    num1.append(num2)\n",
    "\n",
    "print(num1)\n",
    "print(max(num1) - min(num1))"
   ]
  },
  {
   "cell_type": "markdown",
   "metadata": {},
   "source": [
    "##### 3. 매개변수로 두 정수를 받아, 두 정수 사이의(두 정수 포함) 모든 정수를 갖는 리스트를 리턴하는 함수를 구현하시오."
   ]
  },
  {
   "cell_type": "code",
   "execution_count": 9,
   "metadata": {},
   "outputs": [
    {
     "name": "stdout",
     "output_type": "stream",
     "text": [
      "[10, 11, 12, 13, 14, 15, 16, 17, 18, 19, 20]\n"
     ]
    }
   ],
   "source": [
    "# 3번 문제 답안 작성\n",
    "list1 = []\n",
    "\n",
    "def get_sum(a,b) :\n",
    "    for i in range(min(a,b),max(a,b)+1) :\n",
    "        list1.append(i)\n",
    "    return list1\n",
    "\n",
    "print(get_sum(10,20))"
   ]
  },
  {
   "cell_type": "markdown",
   "metadata": {},
   "source": [
    "##### 다음 딕셔너리 데이터를 참고하여 아래 문제들을 해결하시오."
   ]
  },
  {
   "cell_type": "code",
   "execution_count": 1,
   "metadata": {},
   "outputs": [
    {
     "data": {
      "text/plain": [
       "{'행정기관': ['서울특별시', '부산광역시', '대구광역시', '인천광역시', '울산광역시'],\n",
       " '0~4세': [214651, 68006, 53515, 69453, 29835],\n",
       " '5~9세': [210833, 68704, 58332, 68555, 29331],\n",
       " '10~14세': [269171, 94802, 91268, 86574, 29035],\n",
       " '15~19세': [335828, 124564, 101110, 106435, 49119],\n",
       " '20~24세': [343797, 125907, 96078, 102297, 43937]}"
      ]
     },
     "execution_count": 1,
     "metadata": {},
     "output_type": "execute_result"
    }
   ],
   "source": [
    "# 2012년 광역시별 25세 미만 연령별 인구 데이터\n",
    "population = {\n",
    "    '행정기관' : ['서울특별시', '부산광역시', '대구광역시', '인천광역시', '울산광역시'],\n",
    "    '0~4세' : [214651, 68006, 53515, 69453, 29835],\n",
    "    '5~9세' : [210833, 68704, 58332, 68555, 29331],\n",
    "    '10~14세' : [269171, 94802, 91268, 86574, 29035],\n",
    "    '15~19세' : [335828, 124564, 101110, 106435, 49119],\n",
    "    '20~24세' : [343797, 125907, 96078, 102297, 43937]\n",
    "}\n",
    "\n",
    "population"
   ]
  },
  {
   "cell_type": "markdown",
   "metadata": {},
   "source": [
    "##### 4. 2012년 기준 대한민국에서 25세 미만의 인구수 중 인구가 가장 많은 연령대를 출력하시오."
   ]
  },
  {
   "cell_type": "code",
   "execution_count": 2,
   "metadata": {},
   "outputs": [
    {
     "name": "stdout",
     "output_type": "stream",
     "text": [
      "인구가 가장 많은 연령대 :  15~19세\n"
     ]
    }
   ],
   "source": [
    "# 4번 문제 답안 작성\n",
    "pop_max = 0\n",
    "pop_key = ''\n",
    "\n",
    "for i in population :\n",
    "    if i != '행정기관' :\n",
    "        # print(f'{i} : {int(sum(population[i]))}')\n",
    "        if pop_max < sum(population[i]) :\n",
    "            pop_max = sum(population[i])\n",
    "            pop_key = i\n",
    "\n",
    "print('인구가 가장 많은 연령대 : ', pop_key) \n"
   ]
  },
  {
   "cell_type": "markdown",
   "metadata": {},
   "source": [
    "\n",
    "##### 5. '총 인구수' 라는 키를 추가하고, 해당 키에 1세부터 24세까지의 인구 합을 데이터로 하여 population 데이터에 추가하시오."
   ]
  },
  {
   "cell_type": "code",
   "execution_count": 30,
   "metadata": {},
   "outputs": [
    {
     "data": {
      "text/plain": [
       "{'행정기관': ['서울특별시', '부산광역시', '대구광역시', '인천광역시', '울산광역시'],\n",
       " '0~4세': [214651, 68006, 53515, 69453, 29835],\n",
       " '5~9세': [210833, 68704, 58332, 68555, 29331],\n",
       " '10~14세': [269171, 94802, 91268, 86574, 29035],\n",
       " '15~19세': [335828, 124564, 101110, 106435, 49119],\n",
       " '20~24세': [343797, 125907, 96078, 102297, 43937],\n",
       " '총 인구 수': [38479840, 13495524, 11208484, 12132792, 5075196]}"
      ]
     },
     "execution_count": 30,
     "metadata": {},
     "output_type": "execute_result"
    }
   ],
   "source": [
    "# 5번 문제 답안 작성\n",
    "\n",
    "result_list = []\n",
    "\n",
    "# 0 ~ 4 \n",
    "for i in range(len(population['행정기관'])) :\n",
    "    sum1 = 0\n",
    "    for sum2 in population :\n",
    "        if sum2 != '행정기관' :\n",
    "            sum1 = sum1 + population[sum2][i]\n",
    "    result_list.append(sum1)\n",
    "    \n",
    "population['총 인구 수'] = result_list\n",
    "\n",
    "population\n"
   ]
  },
  {
   "cell_type": "code",
   "execution_count": null,
   "metadata": {},
   "outputs": [],
   "source": []
  },
  {
   "cell_type": "code",
   "execution_count": null,
   "metadata": {},
   "outputs": [],
   "source": []
  },
  {
   "cell_type": "code",
   "execution_count": null,
   "metadata": {},
   "outputs": [],
   "source": []
  }
 ],
 "metadata": {
  "kernelspec": {
   "display_name": "Python 3",
   "language": "python",
   "name": "python3"
  },
  "language_info": {
   "codemirror_mode": {
    "name": "ipython",
    "version": 3
   },
   "file_extension": ".py",
   "mimetype": "text/x-python",
   "name": "python",
   "nbconvert_exporter": "python",
   "pygments_lexer": "ipython3",
   "version": "3.12.2"
  }
 },
 "nbformat": 4,
 "nbformat_minor": 2
}
