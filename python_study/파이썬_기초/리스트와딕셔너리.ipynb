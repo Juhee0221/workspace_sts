{
 "cells": [
  {
   "cell_type": "markdown",
   "metadata": {},
   "source": [
    "### 리스트(List)\n",
    "+ 리스트 변수 생성 시 list라는 이름의 변수 생성은 금지!!"
   ]
  },
  {
   "cell_type": "code",
   "execution_count": 3,
   "metadata": {},
   "outputs": [],
   "source": [
    "# 빈 리스트를 생성\n",
    "list1 = []\n",
    "\n",
    "# 초기 값을 가즌 리스트 생성\n",
    "\n",
    "# 자바와 다르게 다른 자료형이 리스트의 요소로 들어올 수 있음\n",
    "list2 = [1, 1.1, 'python']"
   ]
  },
  {
   "cell_type": "code",
   "execution_count": 7,
   "metadata": {},
   "outputs": [
    {
     "name": "stdout",
     "output_type": "stream",
     "text": [
      "[1, 1.1, 'python']\n",
      "1 1.1 python \n",
      "1.1\n"
     ]
    }
   ],
   "source": [
    "# 리스트의 값 읽기\n",
    "print(list2)\n",
    "\n",
    "# 반복문을 이용하여 리스트의 모든 데이터를 출력\n",
    "# print(end) 사용시 한 줄 개행을 하지 않고 원하는대로 출력\n",
    "\n",
    "for e in list2 :\n",
    "    print(e, end=' ')\n",
    "\n",
    "# 각각의 요소를 출력\n",
    "print()\n",
    "print(list2[1])\n"
   ]
  },
  {
   "cell_type": "code",
   "execution_count": 14,
   "metadata": {},
   "outputs": [
    {
     "name": "stdout",
     "output_type": "stream",
     "text": [
      "[0, 1, 2]\n",
      "[0, 1, 2, 3, 4]\n",
      "[6, 7, 8, 9, 10]\n",
      "[0, 1, 2, 3, 4, 5, 6, 7, 8, 9, 10]\n",
      "[8, 9, 10]\n"
     ]
    }
   ],
   "source": [
    "# 슬라이싱 \n",
    "# 많은 데이터 중에서 일부분의 데이터만 가지고 오는것\n",
    "list3 = [0, 1, 2, 3, 4, 5, 6, 7, 8, 9, 10]\n",
    "# [a, b] \n",
    "# a : 시작 인덱스 \n",
    "# b : 마지막 인덱스 전까지! (b는 포함 X) \n",
    "print(list3[0:3])\n",
    "print(list3[:5])\n",
    "\n",
    "# 6번째 부터 끝까지\n",
    "print(list3[6:])\n",
    "\n",
    "# list3를 다 출력 한것과 같음 \n",
    "print(list3[:])\n",
    "\n",
    "# 뒤에서 부터 a 개수 만큼의 데이터\n",
    "print(list3[-3:])"
   ]
  },
  {
   "cell_type": "code",
   "execution_count": 57,
   "metadata": {},
   "outputs": [
    {
     "name": "stdout",
     "output_type": "stream",
     "text": [
      "ja\n",
      "jpg\n",
      "jpg\n",
      "jpg\n",
      "15\n",
      "3\n",
      "2\n",
      "11\n",
      "안녕하세요\n",
      "또 만나요\n",
      "만나서 반가웠어요\n",
      "\n",
      "안녕하세요\n",
      "또 만나요\n",
      "만나서 반가웠어요\n"
     ]
    }
   ],
   "source": [
    "# 슬라이싱의 또 다른 활용 \n",
    "# 문자열을 여러개 데이터가 들어가 있는 배열로 인식.\n",
    "test_str = 'java python c++'\n",
    "\n",
    "print(test_str[0:2])\n",
    "\n",
    "#퀴즈 \n",
    "str_arr = [\n",
    "    '안녕하세요.jpg',\n",
    "    '또 만나요.jpg' ,\n",
    "    '만나서 반가웠어요.jpg'\n",
    "]\n",
    "for e in str_arr :\n",
    "    print(e[-3:])\n",
    "    \n",
    "# .jpg 라는 문자열을 제외한 문자열만 추출하여 출력\n",
    "# 데이터의 길이 : len()\n",
    "print(len(test_str))\n",
    "print(len(str_arr))    \n",
    "\n",
    "# 문자열에서 특정 문자열의 위치값 찾아내기\n",
    "str1 = 'python'\n",
    "\n",
    "# index  : 함수를 사용 시 원하는 데이터의 위치를 찾아낼 수 있음\n",
    "print(str1.index('t'))\n",
    "\n",
    "str2 = 'java.python.c++'\n",
    "# rindex : 가장 마지막 위치\n",
    "print(str2.rindex('.'))\n",
    "\n",
    "# str_arr 에서 .jpg라는 문자열을 제외한 나머지 문자열만 추출하여 출력\n",
    "\n",
    "for e in str_arr :\n",
    "    print(e[:-4])\n",
    "\n",
    "print()\n",
    "\n",
    "for e in str_arr :\n",
    "    print(e[:e.rindex('.')])"
   ]
  },
  {
   "cell_type": "code",
   "execution_count": 61,
   "metadata": {},
   "outputs": [
    {
     "name": "stdout",
     "output_type": "stream",
     "text": [
      "[1, 2.2, 10.5]\n",
      "[1, 1.5, 2.2, 10.5]\n"
     ]
    }
   ],
   "source": [
    "# 리스트에 데이터 추가하기\n",
    "list4 = []\n",
    "\n",
    "# append : 리스트의 가장 마지막에 데이터를 추가\n",
    "list4.append(1)\n",
    "list4.append(2.2)\n",
    "list4.append(10.5)\n",
    "\n",
    "print(list4)\n",
    "\n",
    "# insert(위치, 값) : 리스트에서 원하는 위치에 데이터를 추가\n",
    "list4.insert(1, 1.5)\n",
    "\n",
    "print(list4)"
   ]
  },
  {
   "cell_type": "code",
   "execution_count": 73,
   "metadata": {},
   "outputs": [
    {
     "name": "stdout",
     "output_type": "stream",
     "text": [
      "[2, 3, 4, 5, 6, 7, 8, 9]\n",
      "[]\n",
      "[]\n"
     ]
    }
   ],
   "source": [
    "# 리스트에서 데이터 삭제하기\n",
    "# del(리스트명[인덱스])\n",
    "\n",
    "# del(list4[4])\n",
    "# print(list4)\n",
    "\n",
    "list5 = [1,2,3,4,5,6,7,8,9]\n",
    "\n",
    "# del(list5[:2])\n",
    "# print(list5)\n",
    "\n",
    "# 리스트명.remove(삭제할 값)\n",
    "\n",
    "list5.remove(1)\n",
    "print(list5)\n",
    "\n",
    "# 리스트 속 모든 내용 지우기 \n",
    "\n",
    "list5.clear()\n",
    "\n",
    "print(list5)\n",
    "\n",
    "list5 = [1,2,3,4,5,6,7,8,9]\n",
    "\n",
    "del(list5[:])\n",
    "\n",
    "print(list5)"
   ]
  },
  {
   "cell_type": "markdown",
   "metadata": {},
   "source": [
    "## 딕셔너리(Dictionary)"
   ]
  },
  {
   "cell_type": "code",
   "execution_count": 74,
   "metadata": {},
   "outputs": [],
   "source": [
    "# 딕셔너리 생성\n",
    "dic1 = {}\n",
    "dic2 = {'이름':'홍길동', '나이':20}"
   ]
  },
  {
   "cell_type": "code",
   "execution_count": 84,
   "metadata": {},
   "outputs": [
    {
     "name": "stdout",
     "output_type": "stream",
     "text": [
      "{'이름': '홍길동', '나이': 20}\n",
      "홍길동\n",
      "20\n",
      "key = 이름 , value = 홍길동\n",
      "key = 나이 , value = 20\n"
     ]
    }
   ],
   "source": [
    "# 딕셔너리 데이터 출력\n",
    "\n",
    "print(dic2)\n",
    "\n",
    "# 하나의 데이터만 출력 \n",
    "print(dic2['이름'])\n",
    "print(dic2.get('나이'))\n",
    "\n",
    "# 반복문 이용하기\n",
    "# f'' = 자바스크립트 ``같은 역할\n",
    "for e in dic2:\n",
    "    print(f'key = {e} , value = {dic2[e]}')"
   ]
  },
  {
   "cell_type": "code",
   "execution_count": 87,
   "metadata": {},
   "outputs": [
    {
     "name": "stdout",
     "output_type": "stream",
     "text": [
      "{'이름': '홍길동'}\n",
      "{'이름': '홍길동', '연락처': '010-1111-2222'}\n",
      "{'이름': '이순신', '연락처': '010-1111-2222'}\n"
     ]
    }
   ],
   "source": [
    "# 딕셔너리에 데이터 추가하기\n",
    "dic3 = {}\n",
    "\n",
    "# key가 이름이고 value는 '홍길동'인 데이터 추가 \n",
    "dic3['이름'] = '홍길동'\n",
    "print(dic3)\n",
    "dic3['연락처'] = '010-1111-2222'\n",
    "print(dic3) \n",
    "\n",
    "# dic3 안에 키가 '이름'인 데이터의 값을 '이순신'으로 변경\n",
    "dic3['이름'] = '이순신'\n",
    "print(dic3)"
   ]
  },
  {
   "cell_type": "code",
   "execution_count": 88,
   "metadata": {},
   "outputs": [
    {
     "name": "stdout",
     "output_type": "stream",
     "text": [
      "{'연락처': '010-1111-2222'}\n"
     ]
    }
   ],
   "source": [
    "# 데이터 삭제하기\n",
    "# 키가 '이름'인 데이터를 삭제\n",
    "\n",
    "del(dic3['이름'])\n",
    "print(dic3)\n",
    "\n",
    "# 딕서녀리 안의 모든 데이터 삭제\n",
    "dic3.clear()\n"
   ]
  },
  {
   "cell_type": "code",
   "execution_count": 1,
   "metadata": {},
   "outputs": [
    {
     "name": "stdout",
     "output_type": "stream",
     "text": [
      "['2', '3', '4', '5', '6']\n"
     ]
    }
   ],
   "source": [
    "# 리스트 문제1\n",
    "# 빈 리스트를 생성하고\n",
    "# 키보드로 데이터 5개를 입력받은 데이터를 리스트에 추가\n",
    "# 그리고 리스트의 모든 내용 출력\n",
    "\n",
    "test1 = []\n",
    "\n",
    "for i in range(5) :\n",
    "   num = input(f'{i + 1}번째 값 : ') \n",
    "   test1.append(num)\n",
    "\n",
    "print(test1)\n",
    "\n"
   ]
  },
  {
   "cell_type": "code",
   "execution_count": 14,
   "metadata": {},
   "outputs": [
    {
     "name": "stdout",
     "output_type": "stream",
     "text": [
      "삭제하려는 데이터가 존재하지 않습니다.\n"
     ]
    }
   ],
   "source": [
    "# 리스트 문제 2\n",
    "# 아래 제시된 리스트에서 사용자가 입력한 값을 찾아 삭제하는 코드 작성\n",
    "test2_list2 = [1,2,3,4,5]\n",
    "\n",
    "num6 = int(input(\"데이터 입력 : \"))\n",
    "\n",
    "if num6 in test2_list2 :\n",
    "    test2_list2.remove(num6)\n",
    "    print(f'삭제 결과 : {test2_list2}')\n",
    "else :\n",
    "    print('삭제하려는 데이터가 존재하지 않습니다.')    \n",
    "\n"
   ]
  },
  {
   "cell_type": "markdown",
   "metadata": {},
   "source": []
  },
  {
   "cell_type": "code",
   "execution_count": 2,
   "metadata": {},
   "outputs": [
    {
     "name": "stdout",
     "output_type": "stream",
     "text": [
      "30\n",
      "10\n"
     ]
    }
   ],
   "source": [
    "# 리스트 문제 3\n",
    "# 1~ 10까지의 수 중 짝수만 리스트에 저장하고 리스트에 저장된 데이터의 합 출력\n",
    "\n",
    "test3 = []\n",
    "\n",
    "for e in range(1, 11) :\n",
    "    if e % 2 == 0 :\n",
    "        test3.append(e)\n",
    "\n",
    "# 합 : sum \n",
    "print(sum(test3))\n",
    "\n",
    "# 가장 큰 값 : max\n",
    "print(max(test3))\n"
   ]
  },
  {
   "cell_type": "code",
   "execution_count": null,
   "metadata": {},
   "outputs": [],
   "source": [
    "list6 = [1,2,3,4,5]"
   ]
  },
  {
   "cell_type": "code",
   "execution_count": 5,
   "metadata": {},
   "outputs": [
    {
     "name": "stdout",
     "output_type": "stream",
     "text": [
      "{'이름': '홍', '나이': 18, '국어점수': 100, '영어점수': 80, '총점': 180}\n"
     ]
    }
   ],
   "source": [
    "# 빈 dictionary 객체를 생성한 후 \n",
    "# 이름, 나이, 국어점수, 영어점수를 key로 추가하고\n",
    "# 각각의 키에 대응하는 value는 키보드로 입력받아\n",
    "# dictionary 객체에 저장하시오. 그리고 출력!\n",
    "\n",
    "# 파이썬의 null = None\n",
    "# if name is None :\n",
    "# if name is not None :\n",
    "\n",
    "sum1 = {}\n",
    "\n",
    "sum1 ['이름'] = input(\"이름 입력 : \")\n",
    "sum1 ['나이'] = int(input(\"나이 입력 : \"))\n",
    "sum1 ['국어점수'] = int(input(\"국어점수 입력 : \"))\n",
    "sum1 ['영어점수'] = int(input(\"영어점수 입력 : \"))\n",
    "sum1 ['총점'] = sum1['국어점수'] + sum1['영어점수']\n",
    "print(sum1)\n",
    "\n"
   ]
  },
  {
   "cell_type": "code",
   "execution_count": 6,
   "metadata": {},
   "outputs": [
    {
     "name": "stdout",
     "output_type": "stream",
     "text": [
      "{'stu_no': [1, 2, 3, 4, 5], 'stu_name': ['김자바', '이자바', '박자바', '최자바', '정자바'], 'stu_score': [85, 65, 70, 80, 95]}\n"
     ]
    }
   ],
   "source": [
    "class_room_data = {\n",
    "    'stu_no' : [1, 2, 3, 4, 5],\n",
    "    'stu_name': ['김자바', '이자바', '박자바', '최자바', '정자바'],\n",
    "    'stu_score' : [85, 65, 70, 80, 95]\n",
    "}\n",
    "print(class_room_data)"
   ]
  },
  {
   "cell_type": "code",
   "execution_count": 7,
   "metadata": {},
   "outputs": [
    {
     "name": "stdout",
     "output_type": "stream",
     "text": [
      "95\n"
     ]
    }
   ],
   "source": [
    "# 최고점수 출력\n",
    "print(max(class_room_data['stu_score']))"
   ]
  },
  {
   "cell_type": "code",
   "execution_count": 4,
   "metadata": {},
   "outputs": [
    {
     "ename": "NameError",
     "evalue": "name 'class_room_data' is not defined",
     "output_type": "error",
     "traceback": [
      "\u001b[1;31m---------------------------------------------------------------------------\u001b[0m",
      "\u001b[1;31mNameError\u001b[0m                                 Traceback (most recent call last)",
      "Cell \u001b[1;32mIn[4], line 7\u001b[0m\n\u001b[0;32m      1\u001b[0m \u001b[38;5;66;03m# 위의 딕셔너리 데이터에 'stu_grade'라는 키를 추가하고\u001b[39;00m\n\u001b[0;32m      2\u001b[0m \u001b[38;5;66;03m# 해당 키에 대한 값은 아래의 글을 참고한다.\u001b[39;00m\n\u001b[0;32m      3\u001b[0m \u001b[38;5;66;03m# 90 <= 점수 : A\u001b[39;00m\n\u001b[0;32m      4\u001b[0m \u001b[38;5;66;03m# 80 <= 점수 : B\u001b[39;00m\n\u001b[0;32m      5\u001b[0m \u001b[38;5;66;03m# 70 <= 점수 : C\u001b[39;00m\n\u001b[1;32m----> 7\u001b[0m \u001b[43mclass_room_data\u001b[49m[\u001b[38;5;124m'\u001b[39m\u001b[38;5;124mstu_grade\u001b[39m\u001b[38;5;124m'\u001b[39m] \u001b[38;5;241m=\u001b[39m []\n\u001b[0;32m      8\u001b[0m grade \u001b[38;5;241m=\u001b[39m\u001b[38;5;124m'\u001b[39m\u001b[38;5;124m'\u001b[39m\n\u001b[0;32m     10\u001b[0m \u001b[38;5;28;01mfor\u001b[39;00m e \u001b[38;5;129;01min\u001b[39;00m class_room_data[\u001b[38;5;124m'\u001b[39m\u001b[38;5;124mstu_score\u001b[39m\u001b[38;5;124m'\u001b[39m]:\n",
      "\u001b[1;31mNameError\u001b[0m: name 'class_room_data' is not defined"
     ]
    }
   ],
   "source": [
    "# 위의 딕셔너리 데이터에 'stu_grade'라는 키를 추가하고\n",
    "# 해당 키에 대한 값은 아래의 글을 참고한다.\n",
    "# 90 <= 점수 : A\n",
    "# 80 <= 점수 : B\n",
    "# 70 <= 점수 : C\n",
    "\n",
    "class_room_data['stu_grade'] = []\n",
    "grade =''\n",
    "\n",
    "for e in class_room_data['stu_score']:\n",
    "    if e >= 90:\n",
    "        grade = 'A'\n",
    "    elif e >= 80:\n",
    "        grade = 'B'\n",
    "    else :\n",
    "        grade = 'C'\n",
    "    \n",
    "    class_room_data['stu_grade'].append(grade)\n",
    "\n",
    "print(class_room_data)"
   ]
  },
  {
   "cell_type": "code",
   "execution_count": null,
   "metadata": {},
   "outputs": [],
   "source": []
  },
  {
   "cell_type": "code",
   "execution_count": null,
   "metadata": {},
   "outputs": [],
   "source": []
  },
  {
   "cell_type": "code",
   "execution_count": null,
   "metadata": {},
   "outputs": [],
   "source": []
  }
 ],
 "metadata": {
  "kernelspec": {
   "display_name": "Python 3",
   "language": "python",
   "name": "python3"
  },
  "language_info": {
   "codemirror_mode": {
    "name": "ipython",
    "version": 3
   },
   "file_extension": ".py",
   "mimetype": "text/x-python",
   "name": "python",
   "nbconvert_exporter": "python",
   "pygments_lexer": "ipython3",
   "version": "3.12.2"
  }
 },
 "nbformat": 4,
 "nbformat_minor": 2
}
