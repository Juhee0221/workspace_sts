{
 "cells": [
  {
   "cell_type": "markdown",
   "metadata": {},
   "source": [
    "## 함수"
   ]
  },
  {
   "cell_type": "code",
   "execution_count": 7,
   "metadata": {},
   "outputs": [],
   "source": [
    "# 함수의 기본 형태\n",
    "\n",
    "def test1() :\n",
    "    print(1)"
   ]
  },
  {
   "cell_type": "code",
   "execution_count": 8,
   "metadata": {},
   "outputs": [
    {
     "name": "stdout",
     "output_type": "stream",
     "text": [
      "1\n"
     ]
    }
   ],
   "source": [
    "test1()"
   ]
  },
  {
   "cell_type": "code",
   "execution_count": 21,
   "metadata": {},
   "outputs": [
    {
     "name": "stdout",
     "output_type": "stream",
     "text": [
      "10\n"
     ]
    }
   ],
   "source": [
    "# 리턴이 있는 함수 \n",
    "def getNum():\n",
    "    return 10\n",
    "\n",
    "val = getNum()\n",
    "print(val)   "
   ]
  },
  {
   "cell_type": "code",
   "execution_count": 23,
   "metadata": {},
   "outputs": [
    {
     "name": "stdout",
     "output_type": "stream",
     "text": [
      "30\n"
     ]
    }
   ],
   "source": [
    "# 매개변수로 전달되는 두수의 합을 리턴하는 함수\n",
    "# 호출 \n",
    "\n",
    "def getSum(num1, num2):\n",
    "    return num1 + num2 \n",
    "print(getSum(10,20))    "
   ]
  },
  {
   "cell_type": "code",
   "execution_count": 25,
   "metadata": {},
   "outputs": [
    {
     "name": "stdout",
     "output_type": "stream",
     "text": [
      "(10, 20)\n",
      "10\n",
      "20\n"
     ]
    }
   ],
   "source": [
    "# 파이썬은 필요하다면 여러 데이터를 return 할 수 있다\n",
    "def test2():\n",
    "    return 10 , 20\n",
    "\n",
    "# 결과가 Tuple(튜플) 자료형으로 나옴.\n",
    "# tuple : list와 동일 하나, 값을 변경하지 못하는 자료형 \n",
    "val1 = test2()\n",
    "print(val1)\n",
    "\n",
    "#val1[0] = 20\n",
    "\n",
    "num1, num2 = test2()\n",
    "\n",
    "print(num1)\n",
    "print(num2)"
   ]
  },
  {
   "cell_type": "code",
   "execution_count": 26,
   "metadata": {},
   "outputs": [],
   "source": [
    "# 파이썬은 매개변수의 값을 자바와 다르게 지정할 수 있다.\n",
    "def intro(name , age):\n",
    "    print(f'이름은 {name}이고, 나이는 {age}입니다') "
   ]
  },
  {
   "cell_type": "code",
   "execution_count": 34,
   "metadata": {},
   "outputs": [
    {
     "name": "stdout",
     "output_type": "stream",
     "text": [
      "이름은 홍길동이고, 나이는 20입니다\n",
      "이름은 홍길동이고, 나이는 20입니다\n",
      "이름은 김이고, 나이는 30입니다\n"
     ]
    }
   ],
   "source": [
    "intro('홍길동', 20)\n",
    "\n",
    "# 좀 더 명확하게 표현한 방법\n",
    "# 매개변수의 이름으로 값을 전달할 수 있음\n",
    "intro(name = '홍길동', age = 20)\n",
    "intro(age = 30 , name = '김')"
   ]
  },
  {
   "cell_type": "code",
   "execution_count": 37,
   "metadata": {},
   "outputs": [],
   "source": [
    "# 함수 선언 시 매개변수의 기본값(default)을 지정할 수 있음\n",
    "def mySum(a, b=10, c=20):\n",
    "    return a + b + c \n",
    "\n",
    "# 오류 --\n",
    "# def mySum(a=1, b, c=20):\n",
    "#     return a + b + c"
   ]
  },
  {
   "cell_type": "code",
   "execution_count": 35,
   "metadata": {},
   "outputs": [
    {
     "name": "stdout",
     "output_type": "stream",
     "text": [
      "6\n",
      "23\n",
      "31\n",
      "18\n",
      "10\n"
     ]
    }
   ],
   "source": [
    "print(mySum(1, 2, 3))\n",
    "print(mySum(1,2))\n",
    "print(mySum(1))\n",
    "print(mySum(b=5, a=10, c=3))\n",
    "\n",
    "print(10)"
   ]
  },
  {
   "cell_type": "code",
   "execution_count": 51,
   "metadata": {},
   "outputs": [
    {
     "name": "stdout",
     "output_type": "stream",
     "text": [
      "21\n"
     ]
    }
   ],
   "source": [
    "# 1. 매개변수로 두 개의 리스트를 받아, 두 리스트에 저장된 \n",
    "# 모든 데이터의 합을 리턴하는 함수 선언\n",
    "\n",
    "def getSumOfList(list1, list2):\n",
    "   return sum(list1) + sum(list2)\n",
    "\n",
    "list_1 = [1,2,3]\n",
    "list_2 = [4,5,6]\n",
    "\n",
    "result1 = getSumOfList(list_1 , list_2)\n",
    "\n",
    "print(result1)"
   ]
  },
  {
   "cell_type": "code",
   "execution_count": 55,
   "metadata": {},
   "outputs": [
    {
     "name": "stdout",
     "output_type": "stream",
     "text": [
      "[2, 3]\n"
     ]
    }
   ],
   "source": [
    "# 2. 매개변수로 두 개의 리스트를 받아, 두 리스트에서 중복된\n",
    "# 데이터만을 갖는 새로운 리스트를 리턴하는 함수\n",
    "def getDupleList(list1 , list2):\n",
    "    result2 = []\n",
    "\n",
    "    for i in list1:\n",
    "        if i in list2:\n",
    "            result2.append(i)\n",
    "    return result2\n",
    "list_4 = [1,2,3,4,5]    \n",
    "list_5 = [2,3,6,8,7]\n",
    "\n",
    "result_list = getDupleList(list_5, list_4)\n",
    "print(result_list)"
   ]
  },
  {
   "cell_type": "code",
   "execution_count": 59,
   "metadata": {},
   "outputs": [
    {
     "name": "stdout",
     "output_type": "stream",
     "text": [
      "{'name': 'ho', 'age': 20, 'number': 26}\n"
     ]
    }
   ],
   "source": [
    "# chaneValueOfDic(딕셔너리, 변경할key , 변경할 값)\n",
    "# 찾는 키가 없다면 '변경할 키를 찾지 못했습니다'가 출력\n",
    "\n",
    "dic1 = {\n",
    "    'name' : 'hong' ,\n",
    "    'age' : 20 ,\n",
    "    'number' : 26\n",
    "} \n",
    "\n",
    "def chaneValueOfDic(a , b , c) : \n",
    "\n",
    "    if b in a :\n",
    "        a[b] = c\n",
    "        print(a)\n",
    "    else :\n",
    "        print(\"변경할 키를 찾지 못했습니다.\")\n",
    "\n",
    "chaneValueOfDic(dic1 , 'name' , 'ho')"
   ]
  },
  {
   "cell_type": "code",
   "execution_count": null,
   "metadata": {},
   "outputs": [],
   "source": []
  },
  {
   "cell_type": "code",
   "execution_count": null,
   "metadata": {},
   "outputs": [],
   "source": []
  }
 ],
 "metadata": {
  "kernelspec": {
   "display_name": "Python 3",
   "language": "python",
   "name": "python3"
  },
  "language_info": {
   "codemirror_mode": {
    "name": "ipython",
    "version": 3
   },
   "file_extension": ".py",
   "mimetype": "text/x-python",
   "name": "python",
   "nbconvert_exporter": "python",
   "pygments_lexer": "ipython3",
   "version": "3.12.2"
  }
 },
 "nbformat": 4,
 "nbformat_minor": 2
}
